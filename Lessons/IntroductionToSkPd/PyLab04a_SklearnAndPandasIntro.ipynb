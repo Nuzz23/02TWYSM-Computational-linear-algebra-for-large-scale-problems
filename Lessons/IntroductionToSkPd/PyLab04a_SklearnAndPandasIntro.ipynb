{
 "cells": [
  {
   "cell_type": "markdown",
   "id": "outstanding-acrobat",
   "metadata": {},
   "source": [
    "# Python Lab 04a: Introduction to Scikit-Learn (PCA, Kmeans, etc.) and to Pandas\n",
    "\n",
    "## Francesco Della Santa, Computational Linear Algebra for Large Scale Problems, Politecnico di Torino"
   ]
  },
  {
   "cell_type": "code",
   "execution_count": 3,
   "id": "collaborative-cooperative",
   "metadata": {},
   "outputs": [],
   "source": [
    "import pandas as pd\n",
    "import numpy as np\n",
    "from sklearn.decomposition import PCA\n",
    "from sklearn.cluster import KMeans\n",
    "from sklearn.preprocessing import StandardScaler\n"
   ]
  },
  {
   "cell_type": "markdown",
   "id": "bef7cdc8-541e-4915-9761-a6420c868f47",
   "metadata": {},
   "source": [
    "## Initialize PCA objects"
   ]
  },
  {
   "cell_type": "markdown",
   "id": "03f33780",
   "metadata": {},
   "source": [
    "### Parameters:\n",
    "n_component: the number of component you want <ul>\n",
    "<li>can be an integer, </li>\n",
    "<li>can be none for all component </li>\n",
    "<li>can be a float value x to save x percent or more of explained variance (in percentage)</li>\n",
    "</ul>\n",
    "The solver indicates which solver can be used for the svd decomposition: (svd_solver)\n",
    "<ul>\n",
    "<li>'auto': the full svd is computed if and only if the min dimension is lower than 500 elements, otherwise uses randomized svd</li>\n",
    "<li>'full': the pca computes the full svd</li>\n",
    "<li>'randomized': computes the randomized svd</li>\n",
    "<li>'truncated': you use this when you know the number of pca wanted</li>\n",
    "</ul>\n",
    "\n",
    "\n"
   ]
  },
  {
   "cell_type": "code",
   "execution_count": null,
   "id": "94005a2d-928b-4a67-865a-2cb9c48c39ec",
   "metadata": {},
   "outputs": [],
   "source": [
    "pca_general = PCA() # computes all PCA\n",
    "pca_perc = PCA(n_components=0.5, svd_solver='full')  # computes pca to explain 50% of the explained variance\n",
    "pca_ncomp = PCA(n_components=7) # only creates the first 7 pca"
   ]
  },
  {
   "cell_type": "markdown",
   "id": "49d6db74-e3b6-4668-b9de-143b6e8c64c4",
   "metadata": {},
   "source": [
    "### And let's use them..."
   ]
  },
  {
   "cell_type": "markdown",
   "id": "92b83eba",
   "metadata": {},
   "source": [
    "you obtain the pca matrix using the fit method which creates the matrix: <br>\n",
    "The pca centers the data using the mean $\\mu$ and the variance.\n",
    "<br>\n",
    "will create the matrix Pm to perform the first m PC, <br>\n",
    "Also the explained variance and the eigenvalues are saved (also as a percentage). <br>\n",
    "<br>\n",
    "<b>Transform</b> will transform the data given rescaling them by the mean and then computes the PCA applied to the data matrix returning the new matrix.\n",
    "<b>Inverse Transform</b>: will inverse transform the data from the pca matrix to the initial matrix "
   ]
  },
  {
   "cell_type": "code",
   "execution_count": null,
   "id": "19fa2adf-9412-4fc0-ac77-69adab6d0011",
   "metadata": {},
   "outputs": [
    {
     "name": "stdout",
     "output_type": "stream",
     "text": [
      "*********************** DATASET S ***********************\n"
     ]
    },
    {
     "data": {
      "text/plain": [
       "array([[0.40936818, 0.09320249, 0.57537812, ..., 0.96595136, 0.94303054,\n",
       "        0.50849994],\n",
       "       [0.57280536, 0.91323463, 0.90188807, ..., 0.40806125, 0.11022807,\n",
       "        0.43731257],\n",
       "       [0.74159556, 0.70002704, 0.79311179, ..., 0.48669656, 0.55638231,\n",
       "        0.75534397],\n",
       "       ...,\n",
       "       [0.91667107, 0.35880506, 0.64589064, ..., 0.52542091, 0.33460778,\n",
       "        0.31873929],\n",
       "       [0.16336167, 0.00734295, 0.92095168, ..., 0.93186668, 0.27058155,\n",
       "        0.96089828],\n",
       "       [0.23308429, 0.05381277, 0.98827004, ..., 0.17953776, 0.38574099,\n",
       "        0.60653913]])"
      ]
     },
     "metadata": {},
     "output_type": "display_data"
    },
    {
     "name": "stdout",
     "output_type": "stream",
     "text": [
      "*********************************************************\n",
      "\n",
      "*********************** DATASET PROJECTED (ncomp: 7 PCs) ***********************\n"
     ]
    },
    {
     "data": {
      "text/plain": [
       "array([[-0.40937743, -0.26611326, -0.40609986, ...,  0.37950042,\n",
       "         0.19493742, -0.51249813],\n",
       "       [ 0.42666812,  0.04381765,  0.22389823, ..., -0.65733858,\n",
       "         0.12929418, -0.13721852],\n",
       "       [ 0.02676388,  0.34981673, -0.18429466, ...,  0.15043274,\n",
       "        -0.01054024, -0.54434622],\n",
       "       ...,\n",
       "       [ 0.58224033, -0.62356961, -0.04487258, ...,  0.19014883,\n",
       "         0.09729572, -0.00117706],\n",
       "       [ 0.62787018,  0.26823698, -0.3712405 , ...,  0.23386477,\n",
       "        -0.03370365, -0.17875339],\n",
       "       [-0.25675158,  0.44556844,  0.28468298, ..., -0.04095999,\n",
       "         0.30127984,  0.27345359]])"
      ]
     },
     "metadata": {},
     "output_type": "display_data"
    },
    {
     "name": "stdout",
     "output_type": "stream",
     "text": [
      "*********************************************************************************************************\n",
      "\n",
      "*********************** DATASET PROJECTED (perc: 38 PCs) ************************\n"
     ]
    },
    {
     "data": {
      "text/plain": [
       "array([[-0.40937743, -0.26611326, -0.40609986, ...,  0.18820616,\n",
       "        -0.78960675,  0.01140831],\n",
       "       [ 0.42666812,  0.04381765,  0.22389823, ..., -0.07804432,\n",
       "         0.07099695,  0.61449283],\n",
       "       [ 0.02676388,  0.34981673, -0.18429466, ...,  0.2419083 ,\n",
       "         0.19820794,  0.20089049],\n",
       "       ...,\n",
       "       [ 0.58224033, -0.62356961, -0.04487258, ...,  0.11321253,\n",
       "         0.11260971, -0.21693969],\n",
       "       [ 0.62787018,  0.26823698, -0.3712405 , ..., -0.0049759 ,\n",
       "        -0.30290133, -0.01616229],\n",
       "       [-0.25675158,  0.44556844,  0.28468298, ...,  0.49297435,\n",
       "        -0.23160452,  0.00326047]])"
      ]
     },
     "metadata": {},
     "output_type": "display_data"
    },
    {
     "name": "stdout",
     "output_type": "stream",
     "text": [
      "********************************************************************************************************\n",
      "\n",
      "*********************** RECOVERED DATASET S (ncomp) ***********************\n"
     ]
    },
    {
     "data": {
      "text/plain": [
       "array([[0.45785966, 0.29378528, 0.52510831, ..., 0.51045078, 0.66272543,\n",
       "        0.53322153],\n",
       "       [0.73269816, 0.45725428, 0.56529887, ..., 0.37308305, 0.51532669,\n",
       "        0.36964062],\n",
       "       [0.40170563, 0.58541985, 0.67854428, ..., 0.44955675, 0.40473417,\n",
       "        0.61522569],\n",
       "       ...,\n",
       "       [0.76081662, 0.31614223, 0.40424648, ..., 0.43739715, 0.57559219,\n",
       "        0.48034855],\n",
       "       [0.56645253, 0.54473555, 0.6158926 , ..., 0.40526306, 0.42096171,\n",
       "        0.66906413],\n",
       "       [0.42623915, 0.6412378 , 0.45071894, ..., 0.59140196, 0.47352894,\n",
       "        0.43096693]])"
      ]
     },
     "metadata": {},
     "output_type": "display_data"
    },
    {
     "name": "stdout",
     "output_type": "stream",
     "text": [
      "***************************************************************************\n",
      "\n",
      "*********************** RECOVERED DATASET S (perc) ***********************\n"
     ]
    },
    {
     "data": {
      "text/plain": [
       "array([[0.48195631, 0.18270689, 0.55920419, ..., 0.59202694, 0.55718914,\n",
       "        0.65594237],\n",
       "       [0.54881227, 0.86371613, 0.71689015, ..., 0.33725961, 0.27945703,\n",
       "        0.48276414],\n",
       "       [0.87887106, 0.89958813, 0.71296122, ..., 0.63022463, 0.49571213,\n",
       "        0.66349043],\n",
       "       ...,\n",
       "       [0.86935172, 0.367208  , 0.47088281, ..., 0.43325331, 0.51538368,\n",
       "        0.42250968],\n",
       "       [0.3499021 , 0.24654321, 0.89494775, ..., 0.67705348, 0.2805559 ,\n",
       "        0.92212927],\n",
       "       [0.39530349, 0.19595388, 0.63564172, ..., 0.25342957, 0.43922659,\n",
       "        0.67253674]])"
      ]
     },
     "metadata": {},
     "output_type": "display_data"
    },
    {
     "name": "stdout",
     "output_type": "stream",
     "text": [
      "**************************************************************************\n"
     ]
    }
   ],
   "source": [
    "N, n = 1000, 100\n",
    "S = np.random.rand(N, n)\n",
    "\n",
    "# Start using the pca object\n",
    "pca_ncomp.fit(S)\n",
    "pca_perc.fit(S)\n",
    "\n",
    "# Representation of S in the m-dim space of PCs\n",
    "Qm_ncomp = pca_ncomp.transform(S)\n",
    "Qm_perc = pca_perc.transform(S)\n",
    "\n",
    "# Approximation of S obtained using m PCs\n",
    "Stilde_ncomp = pca_ncomp.inverse_transform(Qm_ncomp)\n",
    "Stilde_perc = pca_perc.inverse_transform(Qm_perc)\n",
    "\n",
    "print('*********************** DATASET S ***********************')\n",
    "display(S)\n",
    "print('*********************************************************')\n",
    "print('')\n",
    "print(f'*********************** DATASET PROJECTED (ncomp: {pca_ncomp.n_components_} PCs) ***********************')\n",
    "display(Qm_ncomp)\n",
    "print('*********************************************************************************************************')\n",
    "print('')\n",
    "print(f'*********************** DATASET PROJECTED (perc: {pca_perc.n_components_} PCs) ************************')\n",
    "display(Qm_perc)\n",
    "print('********************************************************************************************************')\n",
    "print('')\n",
    "print('*********************** RECOVERED DATASET S (ncomp) ***********************')\n",
    "display(Stilde_ncomp)\n",
    "print('***************************************************************************')\n",
    "print('')\n",
    "print('*********************** RECOVERED DATASET S (perc) ***********************')\n",
    "display(Stilde_perc)\n",
    "print('**************************************************************************')"
   ]
  },
  {
   "cell_type": "code",
   "execution_count": 4,
   "id": "bed106bd-11e1-4ea9-aa9c-e72d2231c2e9",
   "metadata": {},
   "outputs": [
    {
     "data": {
      "text/plain": [
       "array([0.01706731, 0.0166428 , 0.01615093, 0.01544766, 0.01529891,\n",
       "       0.01518226, 0.01501369])"
      ]
     },
     "metadata": {},
     "output_type": "display_data"
    }
   ],
   "source": [
    "display(pca_ncomp.explained_variance_ratio_)"
   ]
  },
  {
   "cell_type": "markdown",
   "id": "c4cae26c-5e67-4893-80c1-2fe8560de640",
   "metadata": {},
   "source": [
    "## Initialize the Standard Scaler"
   ]
  },
  {
   "cell_type": "markdown",
   "id": "c3803fb6",
   "metadata": {},
   "source": [
    "StandardScaler() is used for normalization with regards to the standard deviation and the mean"
   ]
  },
  {
   "cell_type": "code",
   "execution_count": 11,
   "id": "ce65a649-e50e-4b3f-a1f7-e9c96d271472",
   "metadata": {},
   "outputs": [
    {
     "name": "stdout",
     "output_type": "stream",
     "text": [
      "*********************** DATASET RECENTERED ***********************\n",
      "SAMPLE MEAN OF RECENTERED DATA:\n"
     ]
    },
    {
     "data": {
      "text/plain": [
       "array([ 0.00534408,  0.00037233,  0.01381404,  0.02089265, -0.01204571,\n",
       "        0.04691859, -0.02392384, -0.02242484, -0.0224381 ,  0.00634499])"
      ]
     },
     "metadata": {},
     "output_type": "display_data"
    },
    {
     "name": "stdout",
     "output_type": "stream",
     "text": [
      "SAMPLE ST.DEV. OF RECENTERED DATA:\n"
     ]
    },
    {
     "data": {
      "text/plain": [
       "array([0.30786594, 0.28867339, 0.2636256 , 0.28233008, 0.28355555,\n",
       "       0.26244561, 0.28225062, 0.27823944, 0.27164394, 0.28984261])"
      ]
     },
     "metadata": {},
     "output_type": "display_data"
    },
    {
     "name": "stdout",
     "output_type": "stream",
     "text": [
      "\n"
     ]
    },
    {
     "data": {
      "text/plain": [
       "array([[-0.0899163 , -0.40906994,  0.07443991, ...,  0.47274189,\n",
       "         0.44731128,  0.02580004],\n",
       "       [ 0.07352088,  0.4109622 ,  0.40094985, ..., -0.08514822,\n",
       "        -0.38549119, -0.04538733],\n",
       "       [ 0.24231108,  0.19775461,  0.29217358, ..., -0.00651291,\n",
       "         0.06066306,  0.27264406],\n",
       "       ...,\n",
       "       [ 0.41738659, -0.14346737,  0.14495243, ...,  0.03221144,\n",
       "        -0.16111147, -0.16396062],\n",
       "       [-0.33592281, -0.49492949,  0.42001346, ...,  0.43865721,\n",
       "        -0.2251377 ,  0.47819838],\n",
       "       [-0.26620019, -0.44845967,  0.48733183, ..., -0.31367171,\n",
       "        -0.10997827,  0.12383922]])"
      ]
     },
     "metadata": {},
     "output_type": "display_data"
    },
    {
     "name": "stdout",
     "output_type": "stream",
     "text": [
      "*******************************************************************\n",
      "\n",
      "*********************** DATASET STANDARDIZED ***********************\n",
      "SAMPLE MEAN OF STANDARDIZED DATA:\n"
     ]
    },
    {
     "data": {
      "text/plain": [
       "array([ 1.95024870e-02, -8.20676023e-05,  4.77401737e-02,  7.14221943e-02,\n",
       "       -4.24780029e-02,  1.62224275e-01, -8.18754343e-02, -7.89526111e-02,\n",
       "       -7.64891015e-02,  2.27108253e-02])"
      ]
     },
     "metadata": {},
     "output_type": "display_data"
    },
    {
     "name": "stdout",
     "output_type": "stream",
     "text": [
      "SAMPLE ST.DEV. OF STANDARDIZED DATA:\n"
     ]
    },
    {
     "data": {
      "text/plain": [
       "array([1.06529283, 1.00031263, 0.9131252 , 0.97937983, 0.98059979,\n",
       "       0.90765667, 0.97665009, 0.96600687, 0.94225995, 1.00624478])"
      ]
     },
     "metadata": {},
     "output_type": "display_data"
    },
    {
     "name": "stdout",
     "output_type": "stream",
     "text": [
      "\n"
     ]
    },
    {
     "data": {
      "text/plain": [
       "array([[-0.31661275, -1.38311068,  0.25486926, ...,  1.66891531,\n",
       "         1.55079483,  0.08957458],\n",
       "       [ 0.25888132,  1.38950861,  1.37278232, ..., -0.30059778,\n",
       "        -1.33646919, -0.15757929],\n",
       "       [ 0.8532244 ,  0.66863018,  1.00035134, ..., -0.02299244,\n",
       "         0.21031429,  0.94658692],\n",
       "       ...,\n",
       "       [ 1.46969928, -0.48507903,  0.49629181, ...,  0.11371568,\n",
       "        -0.55856146, -0.56925126],\n",
       "       [-1.18284948, -1.67341129,  1.4380528 , ...,  1.54858654,\n",
       "        -0.78053562,  1.66024643],\n",
       "       [-0.93734257, -1.5162917 ,  1.66853912, ..., -1.10735165,\n",
       "        -0.38128645,  0.42995468]])"
      ]
     },
     "metadata": {},
     "output_type": "display_data"
    },
    {
     "name": "stdout",
     "output_type": "stream",
     "text": [
      "**********************************************************************\n"
     ]
    }
   ],
   "source": [
    "scaler_recent = StandardScaler(with_std=False)\n",
    "scaler_znorm = StandardScaler()\n",
    "# Start using the scaler objects\n",
    "scaler_recent.fit(S)\n",
    "scaler_znorm.fit(S)\n",
    "# recentered S\n",
    "Sbar = scaler_recent.transform(S)\n",
    "# standardized S\n",
    "Shat = scaler_znorm.transform(S)\n",
    "\n",
    "print(f'*********************** DATASET RECENTERED ***********************')\n",
    "print('SAMPLE MEAN OF RECENTERED DATA:')\n",
    "display(Sbar.mean(axis=1)[:10])\n",
    "print('SAMPLE ST.DEV. OF RECENTERED DATA:')\n",
    "display(Sbar.std(axis=1)[:10])\n",
    "print('')\n",
    "display(Sbar)\n",
    "print('*******************************************************************')\n",
    "print('')\n",
    "print(f'*********************** DATASET STANDARDIZED ***********************')\n",
    "print('SAMPLE MEAN OF STANDARDIZED DATA:')\n",
    "display(Shat.mean(axis=1)[:10])\n",
    "print('SAMPLE ST.DEV. OF STANDARDIZED DATA:')\n",
    "display(Shat.std(axis=1)[:10])\n",
    "print('')\n",
    "display(Shat)\n",
    "print('**********************************************************************')"
   ]
  },
  {
   "cell_type": "markdown",
   "id": "575cef0b-2f36-4809-a2f5-0f81bffa331c",
   "metadata": {},
   "source": [
    "### Let's apply the PCA to standardized data"
   ]
  },
  {
   "cell_type": "code",
   "execution_count": 12,
   "id": "d7475bf8-1279-4994-b1f0-5e78c5ac97a4",
   "metadata": {},
   "outputs": [
    {
     "name": "stdout",
     "output_type": "stream",
     "text": [
      "*********************** RECOVERED DATASET Shat ***********************\n"
     ]
    },
    {
     "data": {
      "text/plain": [
       "array([[-0.23464222, -0.6299307 , -0.01333154, ..., -0.01843686,\n",
       "         0.6271358 ,  0.29260957],\n",
       "       [ 0.83132994, -0.16760574,  0.110843  , ..., -0.43523653,\n",
       "         0.12905152, -0.31947582],\n",
       "       [-0.38747436,  0.22250918,  0.41307938, ..., -0.15495601,\n",
       "        -0.34365703,  0.52440816],\n",
       "       ...,\n",
       "       [ 0.9865518 , -0.47062231, -0.30190596, ..., -0.26109109,\n",
       "         0.3127003 , -0.01578982],\n",
       "       [ 0.22237577,  0.08254034,  0.42007762, ..., -0.42397078,\n",
       "        -0.23361445,  0.65227072],\n",
       "       [-0.27948591,  0.39537447, -0.1342625 , ...,  0.43758571,\n",
       "        -0.08486184, -0.21542825]])"
      ]
     },
     "metadata": {},
     "output_type": "display_data"
    },
    {
     "name": "stdout",
     "output_type": "stream",
     "text": [
      "**********************************************************************\n",
      "*********************** RECOVERED DATASET S ***********************\n"
     ]
    },
    {
     "data": {
      "text/plain": [
       "array([[-0.31661275, -1.38311068,  0.25486926, ...,  1.66891531,\n",
       "         1.55079483,  0.08957458],\n",
       "       [ 0.25888132,  1.38950861,  1.37278232, ..., -0.30059778,\n",
       "        -1.33646919, -0.15757929],\n",
       "       [ 0.8532244 ,  0.66863018,  1.00035134, ..., -0.02299244,\n",
       "         0.21031429,  0.94658692],\n",
       "       ...,\n",
       "       [ 1.46969928, -0.48507903,  0.49629181, ...,  0.11371568,\n",
       "        -0.55856146, -0.56925126],\n",
       "       [-1.18284948, -1.67341129,  1.4380528 , ...,  1.54858654,\n",
       "        -0.78053562,  1.66024643],\n",
       "       [-0.93734257, -1.5162917 ,  1.66853912, ..., -1.10735165,\n",
       "        -0.38128645,  0.42995468]])"
      ]
     },
     "metadata": {},
     "output_type": "display_data"
    },
    {
     "name": "stdout",
     "output_type": "stream",
     "text": [
      "*******************************************************************\n"
     ]
    }
   ],
   "source": [
    "pca = PCA(n_components=7)\n",
    "\n",
    "# Start with PCA\n",
    "pca.fit(Shat)\n",
    "Qm = pca.transform(Shat)\n",
    "\n",
    "# Recovering of Shat_tilde\n",
    "Shat_tilde = pca.inverse_transform(Qm)\n",
    "\n",
    "# Recovering of S_tilde\n",
    "S_tilde = scaler_znorm.inverse_transform(Shat_tilde)\n",
    "\n",
    "print('*********************** RECOVERED DATASET Shat ***********************')\n",
    "display(Shat_tilde)\n",
    "print('**********************************************************************')\n",
    "print('*********************** RECOVERED DATASET S ***********************')\n",
    "display(Shat)\n",
    "print('*******************************************************************')"
   ]
  },
  {
   "cell_type": "markdown",
   "id": "af680f65-9ac7-4339-972f-b3d7594806d2",
   "metadata": {},
   "source": [
    "## Initialize $k$-Means"
   ]
  },
  {
   "cell_type": "markdown",
   "id": "9de1d603",
   "metadata": {},
   "source": [
    "### Parameters:\n",
    "The number of cluster (to be specified: by default 8), must be selected at first<br>\n",
    "init argument: you can set many different starting vectors, they are generated randomly or can be even given the data or a function to generate them <br>\n",
    "n_init: how many times the Kmean is executed wrt different initialization points <br>\n",
    "max_iter: the number of maximum iteration <br>\n",
    "tol: the tolerance for stopping criteria <br>\n",
    "random_state: important for replicability (random seed generation) <br>\n",
    "algorithm: there can be different algorithm to use (ex elkan or lloyd) "
   ]
  },
  {
   "cell_type": "code",
   "execution_count": 13,
   "id": "2ae12d2b-7b8a-4870-bcc7-0b5dbdae3d3b",
   "metadata": {},
   "outputs": [],
   "source": [
    "kmeans_default = KMeans()\n",
    "kmeans_3c = KMeans(n_clusters=3, init='random', algorithm='lloyd')\n",
    "\n",
    "W0 = np.random.rand(3, 10)\n",
    "kmeans_3cW0 = KMeans(n_clusters=3, init=W0, algorithm='lloyd')"
   ]
  },
  {
   "cell_type": "markdown",
   "id": "1d7e64f9-de3b-49ea-bae1-d22fb2cb0e6c",
   "metadata": {},
   "source": [
    "### And let's use one of them..."
   ]
  },
  {
   "cell_type": "code",
   "execution_count": 14,
   "id": "aed49574-eb7f-490d-b8b6-287682cdc295",
   "metadata": {},
   "outputs": [
    {
     "name": "stdout",
     "output_type": "stream",
     "text": [
      "*********************** S labels ***********************\n"
     ]
    },
    {
     "data": {
      "text/plain": [
       "array([0, 2, 2, 0, 2, 2, 1, 1, 0, 0], dtype=int32)"
      ]
     },
     "metadata": {},
     "output_type": "display_data"
    },
    {
     "name": "stdout",
     "output_type": "stream",
     "text": [
      "*********************************************************\n",
      "\n",
      "*********************** Snew labels ***********************\n"
     ]
    },
    {
     "data": {
      "text/plain": [
       "array([0, 1, 1, 2, 0, 2, 1, 0, 1, 0], dtype=int32)"
      ]
     },
     "metadata": {},
     "output_type": "display_data"
    },
    {
     "name": "stdout",
     "output_type": "stream",
     "text": [
      "************************************************************\n"
     ]
    }
   ],
   "source": [
    "Snew = np.random.rand(N, n)\n",
    "\n",
    "km = kmeans_3c  # change the KMeans object here if you want to try another one\n",
    "\n",
    "# Start using the km object, fitting it on the data S\n",
    "km.fit(S)\n",
    "\n",
    "# Prediction of cluster belonging w.r.t. S\n",
    "S_labels = km.labels_\n",
    "\n",
    "# Prediction of cluster belonging w.r.t. Snew\n",
    "Snew_labels = km.predict(Snew)\n",
    "\n",
    "print(f'*********************** S labels ***********************')\n",
    "display(S_labels[:10])\n",
    "print('*********************************************************')\n",
    "print('')\n",
    "print(f'*********************** Snew labels ***********************')\n",
    "display(Snew_labels[:10])\n",
    "print('************************************************************')"
   ]
  },
  {
   "cell_type": "markdown",
   "id": "sustained-poison",
   "metadata": {},
   "source": [
    "## Initialize Serieses\n",
    "\n",
    "### Using Arrays"
   ]
  },
  {
   "cell_type": "code",
   "execution_count": 15,
   "id": "severe-reservation",
   "metadata": {},
   "outputs": [
    {
     "data": {
      "text/plain": [
       "array([0.51513492, 0.55963512, 0.53185097, 0.24593504, 0.17933056,\n",
       "       0.60014438, 0.17106858, 0.69983748, 0.25105184, 0.94877271])"
      ]
     },
     "execution_count": 15,
     "metadata": {},
     "output_type": "execute_result"
    }
   ],
   "source": [
    "x = np.random.rand(10)\n",
    "x"
   ]
  },
  {
   "cell_type": "code",
   "execution_count": 16,
   "id": "behind-engineer",
   "metadata": {},
   "outputs": [],
   "source": [
    "s1 = pd.Series(x, index=[f'index{i}' for i in range(1,11)], name='my_series1')\n",
    "s2 = pd.Series(x, name='my_series2')"
   ]
  },
  {
   "cell_type": "code",
   "execution_count": 17,
   "id": "healthy-ridge",
   "metadata": {},
   "outputs": [
    {
     "data": {
      "text/plain": [
       "index1     0.515135\n",
       "index2     0.559635\n",
       "index3     0.531851\n",
       "index4     0.245935\n",
       "index5     0.179331\n",
       "index6     0.600144\n",
       "index7     0.171069\n",
       "index8     0.699837\n",
       "index9     0.251052\n",
       "index10    0.948773\n",
       "Name: my_series1, dtype: float64"
      ]
     },
     "execution_count": 17,
     "metadata": {},
     "output_type": "execute_result"
    }
   ],
   "source": [
    "s1 "
   ]
  },
  {
   "cell_type": "code",
   "execution_count": 18,
   "id": "6e32332f-b412-49fe-b200-8b024b388f08",
   "metadata": {},
   "outputs": [],
   "source": [
    "s1['index1'] = 0"
   ]
  },
  {
   "cell_type": "code",
   "execution_count": 19,
   "id": "620c68ee-2e1f-49a6-affe-2010141a34b4",
   "metadata": {},
   "outputs": [
    {
     "data": {
      "text/plain": [
       "array([0.        , 0.55963512, 0.53185097, 0.24593504, 0.17933056,\n",
       "       0.60014438, 0.17106858, 0.69983748, 0.25105184, 0.94877271])"
      ]
     },
     "execution_count": 19,
     "metadata": {},
     "output_type": "execute_result"
    }
   ],
   "source": [
    "x"
   ]
  },
  {
   "cell_type": "code",
   "execution_count": 20,
   "id": "engaged-matthew",
   "metadata": {},
   "outputs": [
    {
     "data": {
      "text/plain": [
       "0    0.000000\n",
       "1    0.559635\n",
       "2    0.531851\n",
       "3    0.245935\n",
       "4    0.179331\n",
       "5    0.600144\n",
       "6    0.171069\n",
       "7    0.699837\n",
       "8    0.251052\n",
       "9    0.948773\n",
       "Name: my_series2, dtype: float64"
      ]
     },
     "execution_count": 20,
     "metadata": {},
     "output_type": "execute_result"
    }
   ],
   "source": [
    "s2"
   ]
  },
  {
   "cell_type": "markdown",
   "id": "relevant-procedure",
   "metadata": {},
   "source": [
    "### Using Dictionaries"
   ]
  },
  {
   "cell_type": "code",
   "execution_count": 21,
   "id": "auburn-bacteria",
   "metadata": {},
   "outputs": [
    {
     "data": {
      "text/plain": [
       "{'Age': 30, 'Height': 185, 'Weight': 90}"
      ]
     },
     "execution_count": 21,
     "metadata": {},
     "output_type": "execute_result"
    }
   ],
   "source": [
    "d = {'Age':30, 'Height':185, 'Weight':90}\n",
    "d"
   ]
  },
  {
   "cell_type": "code",
   "execution_count": 22,
   "id": "moderate-finland",
   "metadata": {},
   "outputs": [],
   "source": [
    "s1d = pd.Series(d)"
   ]
  },
  {
   "cell_type": "code",
   "execution_count": 23,
   "id": "allied-sample",
   "metadata": {},
   "outputs": [
    {
     "data": {
      "text/plain": [
       "Age        30\n",
       "Height    185\n",
       "Weight     90\n",
       "dtype: int64"
      ]
     },
     "execution_count": 23,
     "metadata": {},
     "output_type": "execute_result"
    }
   ],
   "source": [
    "s1d"
   ]
  },
  {
   "cell_type": "markdown",
   "id": "enabling-nylon",
   "metadata": {},
   "source": [
    "## Initialize DataFrames\n",
    "\n",
    "### Using Dictionaries"
   ]
  },
  {
   "cell_type": "code",
   "execution_count": 24,
   "id": "sophisticated-toilet",
   "metadata": {},
   "outputs": [
    {
     "data": {
      "text/plain": [
       "{'Float_random': array([0.81922945, 0.00878946, 0.30267626, 0.01557354, 0.51682395,\n",
       "        0.83181199, 0.98668088, 0.66344031, 0.20693318, 0.38770378]),\n",
       " 'Integer_random': array([8, 3, 7, 5, 1, 2, 0, 6, 9, 4], dtype=int32)}"
      ]
     },
     "execution_count": 24,
     "metadata": {},
     "output_type": "execute_result"
    }
   ],
   "source": [
    "D = {'Float_random':np.random.rand(10), 'Integer_random':np.random.permutation(10)}\n",
    "D"
   ]
  },
  {
   "cell_type": "code",
   "execution_count": 25,
   "id": "rising-declaration",
   "metadata": {},
   "outputs": [
    {
     "data": {
      "text/html": [
       "<div>\n",
       "<style scoped>\n",
       "    .dataframe tbody tr th:only-of-type {\n",
       "        vertical-align: middle;\n",
       "    }\n",
       "\n",
       "    .dataframe tbody tr th {\n",
       "        vertical-align: top;\n",
       "    }\n",
       "\n",
       "    .dataframe thead th {\n",
       "        text-align: right;\n",
       "    }\n",
       "</style>\n",
       "<table border=\"1\" class=\"dataframe\">\n",
       "  <thead>\n",
       "    <tr style=\"text-align: right;\">\n",
       "      <th></th>\n",
       "      <th>Float_random</th>\n",
       "      <th>Integer_random</th>\n",
       "    </tr>\n",
       "  </thead>\n",
       "  <tbody>\n",
       "    <tr>\n",
       "      <th>0</th>\n",
       "      <td>0.819229</td>\n",
       "      <td>8</td>\n",
       "    </tr>\n",
       "    <tr>\n",
       "      <th>1</th>\n",
       "      <td>0.008789</td>\n",
       "      <td>3</td>\n",
       "    </tr>\n",
       "    <tr>\n",
       "      <th>2</th>\n",
       "      <td>0.302676</td>\n",
       "      <td>7</td>\n",
       "    </tr>\n",
       "    <tr>\n",
       "      <th>3</th>\n",
       "      <td>0.015574</td>\n",
       "      <td>5</td>\n",
       "    </tr>\n",
       "    <tr>\n",
       "      <th>4</th>\n",
       "      <td>0.516824</td>\n",
       "      <td>1</td>\n",
       "    </tr>\n",
       "    <tr>\n",
       "      <th>5</th>\n",
       "      <td>0.831812</td>\n",
       "      <td>2</td>\n",
       "    </tr>\n",
       "    <tr>\n",
       "      <th>6</th>\n",
       "      <td>0.986681</td>\n",
       "      <td>0</td>\n",
       "    </tr>\n",
       "    <tr>\n",
       "      <th>7</th>\n",
       "      <td>0.663440</td>\n",
       "      <td>6</td>\n",
       "    </tr>\n",
       "    <tr>\n",
       "      <th>8</th>\n",
       "      <td>0.206933</td>\n",
       "      <td>9</td>\n",
       "    </tr>\n",
       "    <tr>\n",
       "      <th>9</th>\n",
       "      <td>0.387704</td>\n",
       "      <td>4</td>\n",
       "    </tr>\n",
       "  </tbody>\n",
       "</table>\n",
       "</div>"
      ],
      "text/plain": [
       "   Float_random  Integer_random\n",
       "0      0.819229               8\n",
       "1      0.008789               3\n",
       "2      0.302676               7\n",
       "3      0.015574               5\n",
       "4      0.516824               1\n",
       "5      0.831812               2\n",
       "6      0.986681               0\n",
       "7      0.663440               6\n",
       "8      0.206933               9\n",
       "9      0.387704               4"
      ]
     },
     "execution_count": 25,
     "metadata": {},
     "output_type": "execute_result"
    }
   ],
   "source": [
    "df1d = pd.DataFrame(D)\n",
    "df1d"
   ]
  },
  {
   "cell_type": "code",
   "execution_count": 26,
   "id": "temporal-strap",
   "metadata": {},
   "outputs": [
    {
     "data": {
      "text/plain": [
       "Float_random      float64\n",
       "Integer_random      int32\n",
       "dtype: object"
      ]
     },
     "execution_count": 26,
     "metadata": {},
     "output_type": "execute_result"
    }
   ],
   "source": [
    "df1d.dtypes"
   ]
  },
  {
   "cell_type": "markdown",
   "id": "automatic-parts",
   "metadata": {},
   "source": [
    "### Using Arrays"
   ]
  },
  {
   "cell_type": "code",
   "execution_count": 27,
   "id": "banned-harbor",
   "metadata": {},
   "outputs": [
    {
     "data": {
      "text/plain": [
       "array([[0.58540722, 0.15425591, 0.35273849, 0.9785178 , 0.21466462],\n",
       "       [0.16959672, 0.69741365, 0.01555778, 0.74767698, 0.33614261],\n",
       "       [0.57812177, 0.22349622, 0.72779877, 0.30738751, 0.10307989],\n",
       "       [0.65739025, 0.82900994, 0.8950966 , 0.59244314, 0.62186875],\n",
       "       [0.25784866, 0.75683938, 0.23062865, 0.98044461, 0.31268443],\n",
       "       [0.98576568, 0.25717255, 0.6657422 , 0.05317074, 0.72783585],\n",
       "       [0.40264159, 0.43587433, 0.90330786, 0.35234904, 0.92420414],\n",
       "       [0.19019985, 0.93275091, 0.15924309, 0.33503523, 0.80996114],\n",
       "       [0.31474585, 0.9148154 , 0.56711042, 0.60085817, 0.26034682],\n",
       "       [0.90671481, 0.662426  , 0.38140756, 0.85384391, 0.08611771]])"
      ]
     },
     "execution_count": 27,
     "metadata": {},
     "output_type": "execute_result"
    }
   ],
   "source": [
    "X = np.random.rand(10,5)\n",
    "X"
   ]
  },
  {
   "cell_type": "code",
   "execution_count": 28,
   "id": "generic-franklin",
   "metadata": {},
   "outputs": [
    {
     "data": {
      "text/html": [
       "<div>\n",
       "<style scoped>\n",
       "    .dataframe tbody tr th:only-of-type {\n",
       "        vertical-align: middle;\n",
       "    }\n",
       "\n",
       "    .dataframe tbody tr th {\n",
       "        vertical-align: top;\n",
       "    }\n",
       "\n",
       "    .dataframe thead th {\n",
       "        text-align: right;\n",
       "    }\n",
       "</style>\n",
       "<table border=\"1\" class=\"dataframe\">\n",
       "  <thead>\n",
       "    <tr style=\"text-align: right;\">\n",
       "      <th></th>\n",
       "      <th>column_1</th>\n",
       "      <th>column_2</th>\n",
       "      <th>column_3</th>\n",
       "      <th>column_4</th>\n",
       "      <th>column_5</th>\n",
       "    </tr>\n",
       "  </thead>\n",
       "  <tbody>\n",
       "    <tr>\n",
       "      <th>1</th>\n",
       "      <td>0.585407</td>\n",
       "      <td>0.154256</td>\n",
       "      <td>0.352738</td>\n",
       "      <td>0.978518</td>\n",
       "      <td>0.214665</td>\n",
       "    </tr>\n",
       "    <tr>\n",
       "      <th>2</th>\n",
       "      <td>0.169597</td>\n",
       "      <td>0.697414</td>\n",
       "      <td>0.015558</td>\n",
       "      <td>0.747677</td>\n",
       "      <td>0.336143</td>\n",
       "    </tr>\n",
       "    <tr>\n",
       "      <th>3</th>\n",
       "      <td>0.578122</td>\n",
       "      <td>0.223496</td>\n",
       "      <td>0.727799</td>\n",
       "      <td>0.307388</td>\n",
       "      <td>0.103080</td>\n",
       "    </tr>\n",
       "    <tr>\n",
       "      <th>4</th>\n",
       "      <td>0.657390</td>\n",
       "      <td>0.829010</td>\n",
       "      <td>0.895097</td>\n",
       "      <td>0.592443</td>\n",
       "      <td>0.621869</td>\n",
       "    </tr>\n",
       "    <tr>\n",
       "      <th>5</th>\n",
       "      <td>0.257849</td>\n",
       "      <td>0.756839</td>\n",
       "      <td>0.230629</td>\n",
       "      <td>0.980445</td>\n",
       "      <td>0.312684</td>\n",
       "    </tr>\n",
       "    <tr>\n",
       "      <th>6</th>\n",
       "      <td>0.985766</td>\n",
       "      <td>0.257173</td>\n",
       "      <td>0.665742</td>\n",
       "      <td>0.053171</td>\n",
       "      <td>0.727836</td>\n",
       "    </tr>\n",
       "    <tr>\n",
       "      <th>7</th>\n",
       "      <td>0.402642</td>\n",
       "      <td>0.435874</td>\n",
       "      <td>0.903308</td>\n",
       "      <td>0.352349</td>\n",
       "      <td>0.924204</td>\n",
       "    </tr>\n",
       "    <tr>\n",
       "      <th>8</th>\n",
       "      <td>0.190200</td>\n",
       "      <td>0.932751</td>\n",
       "      <td>0.159243</td>\n",
       "      <td>0.335035</td>\n",
       "      <td>0.809961</td>\n",
       "    </tr>\n",
       "    <tr>\n",
       "      <th>9</th>\n",
       "      <td>0.314746</td>\n",
       "      <td>0.914815</td>\n",
       "      <td>0.567110</td>\n",
       "      <td>0.600858</td>\n",
       "      <td>0.260347</td>\n",
       "    </tr>\n",
       "    <tr>\n",
       "      <th>10</th>\n",
       "      <td>0.906715</td>\n",
       "      <td>0.662426</td>\n",
       "      <td>0.381408</td>\n",
       "      <td>0.853844</td>\n",
       "      <td>0.086118</td>\n",
       "    </tr>\n",
       "  </tbody>\n",
       "</table>\n",
       "</div>"
      ],
      "text/plain": [
       "    column_1  column_2  column_3  column_4  column_5\n",
       "1   0.585407  0.154256  0.352738  0.978518  0.214665\n",
       "2   0.169597  0.697414  0.015558  0.747677  0.336143\n",
       "3   0.578122  0.223496  0.727799  0.307388  0.103080\n",
       "4   0.657390  0.829010  0.895097  0.592443  0.621869\n",
       "5   0.257849  0.756839  0.230629  0.980445  0.312684\n",
       "6   0.985766  0.257173  0.665742  0.053171  0.727836\n",
       "7   0.402642  0.435874  0.903308  0.352349  0.924204\n",
       "8   0.190200  0.932751  0.159243  0.335035  0.809961\n",
       "9   0.314746  0.914815  0.567110  0.600858  0.260347\n",
       "10  0.906715  0.662426  0.381408  0.853844  0.086118"
      ]
     },
     "execution_count": 28,
     "metadata": {},
     "output_type": "execute_result"
    }
   ],
   "source": [
    "df1 = pd.DataFrame(X, index=range(1, X.shape[0] + 1), columns=[f'column_{i}' for i in range(1, X.shape[1] + 1)])\n",
    "df1"
   ]
  },
  {
   "cell_type": "markdown",
   "id": "average-moldova",
   "metadata": {},
   "source": [
    "## Extract/Add Column"
   ]
  },
  {
   "cell_type": "code",
   "execution_count": 29,
   "id": "scheduled-civilian",
   "metadata": {},
   "outputs": [
    {
     "data": {
      "text/plain": [
       "1     0.154256\n",
       "2     0.697414\n",
       "3     0.223496\n",
       "4     0.829010\n",
       "5     0.756839\n",
       "6     0.257173\n",
       "7     0.435874\n",
       "8     0.932751\n",
       "9     0.914815\n",
       "10    0.662426\n",
       "Name: column_2, dtype: float64"
      ]
     },
     "execution_count": 29,
     "metadata": {},
     "output_type": "execute_result"
    }
   ],
   "source": [
    "df1['column_2']"
   ]
  },
  {
   "cell_type": "code",
   "execution_count": 30,
   "id": "altered-clerk",
   "metadata": {},
   "outputs": [
    {
     "data": {
      "text/html": [
       "<div>\n",
       "<style scoped>\n",
       "    .dataframe tbody tr th:only-of-type {\n",
       "        vertical-align: middle;\n",
       "    }\n",
       "\n",
       "    .dataframe tbody tr th {\n",
       "        vertical-align: top;\n",
       "    }\n",
       "\n",
       "    .dataframe thead th {\n",
       "        text-align: right;\n",
       "    }\n",
       "</style>\n",
       "<table border=\"1\" class=\"dataframe\">\n",
       "  <thead>\n",
       "    <tr style=\"text-align: right;\">\n",
       "      <th></th>\n",
       "      <th>column_1</th>\n",
       "      <th>column_2</th>\n",
       "      <th>column_3</th>\n",
       "      <th>column_4</th>\n",
       "      <th>column_5</th>\n",
       "      <th>column_6</th>\n",
       "    </tr>\n",
       "  </thead>\n",
       "  <tbody>\n",
       "    <tr>\n",
       "      <th>1</th>\n",
       "      <td>0.585407</td>\n",
       "      <td>0.154256</td>\n",
       "      <td>0.352738</td>\n",
       "      <td>0.978518</td>\n",
       "      <td>0.214665</td>\n",
       "      <td>0.988534</td>\n",
       "    </tr>\n",
       "    <tr>\n",
       "      <th>2</th>\n",
       "      <td>0.169597</td>\n",
       "      <td>0.697414</td>\n",
       "      <td>0.015558</td>\n",
       "      <td>0.747677</td>\n",
       "      <td>0.336143</td>\n",
       "      <td>0.725114</td>\n",
       "    </tr>\n",
       "    <tr>\n",
       "      <th>3</th>\n",
       "      <td>0.578122</td>\n",
       "      <td>0.223496</td>\n",
       "      <td>0.727799</td>\n",
       "      <td>0.307388</td>\n",
       "      <td>0.103080</td>\n",
       "      <td>0.431186</td>\n",
       "    </tr>\n",
       "    <tr>\n",
       "      <th>4</th>\n",
       "      <td>0.657390</td>\n",
       "      <td>0.829010</td>\n",
       "      <td>0.895097</td>\n",
       "      <td>0.592443</td>\n",
       "      <td>0.621869</td>\n",
       "      <td>0.801384</td>\n",
       "    </tr>\n",
       "    <tr>\n",
       "      <th>5</th>\n",
       "      <td>0.257849</td>\n",
       "      <td>0.756839</td>\n",
       "      <td>0.230629</td>\n",
       "      <td>0.980445</td>\n",
       "      <td>0.312684</td>\n",
       "      <td>0.362059</td>\n",
       "    </tr>\n",
       "    <tr>\n",
       "      <th>6</th>\n",
       "      <td>0.985766</td>\n",
       "      <td>0.257173</td>\n",
       "      <td>0.665742</td>\n",
       "      <td>0.053171</td>\n",
       "      <td>0.727836</td>\n",
       "      <td>0.128897</td>\n",
       "    </tr>\n",
       "    <tr>\n",
       "      <th>7</th>\n",
       "      <td>0.402642</td>\n",
       "      <td>0.435874</td>\n",
       "      <td>0.903308</td>\n",
       "      <td>0.352349</td>\n",
       "      <td>0.924204</td>\n",
       "      <td>0.645924</td>\n",
       "    </tr>\n",
       "    <tr>\n",
       "      <th>8</th>\n",
       "      <td>0.190200</td>\n",
       "      <td>0.932751</td>\n",
       "      <td>0.159243</td>\n",
       "      <td>0.335035</td>\n",
       "      <td>0.809961</td>\n",
       "      <td>0.053032</td>\n",
       "    </tr>\n",
       "    <tr>\n",
       "      <th>9</th>\n",
       "      <td>0.314746</td>\n",
       "      <td>0.914815</td>\n",
       "      <td>0.567110</td>\n",
       "      <td>0.600858</td>\n",
       "      <td>0.260347</td>\n",
       "      <td>0.673258</td>\n",
       "    </tr>\n",
       "    <tr>\n",
       "      <th>10</th>\n",
       "      <td>0.906715</td>\n",
       "      <td>0.662426</td>\n",
       "      <td>0.381408</td>\n",
       "      <td>0.853844</td>\n",
       "      <td>0.086118</td>\n",
       "      <td>0.497009</td>\n",
       "    </tr>\n",
       "  </tbody>\n",
       "</table>\n",
       "</div>"
      ],
      "text/plain": [
       "    column_1  column_2  column_3  column_4  column_5  column_6\n",
       "1   0.585407  0.154256  0.352738  0.978518  0.214665  0.988534\n",
       "2   0.169597  0.697414  0.015558  0.747677  0.336143  0.725114\n",
       "3   0.578122  0.223496  0.727799  0.307388  0.103080  0.431186\n",
       "4   0.657390  0.829010  0.895097  0.592443  0.621869  0.801384\n",
       "5   0.257849  0.756839  0.230629  0.980445  0.312684  0.362059\n",
       "6   0.985766  0.257173  0.665742  0.053171  0.727836  0.128897\n",
       "7   0.402642  0.435874  0.903308  0.352349  0.924204  0.645924\n",
       "8   0.190200  0.932751  0.159243  0.335035  0.809961  0.053032\n",
       "9   0.314746  0.914815  0.567110  0.600858  0.260347  0.673258\n",
       "10  0.906715  0.662426  0.381408  0.853844  0.086118  0.497009"
      ]
     },
     "execution_count": 30,
     "metadata": {},
     "output_type": "execute_result"
    }
   ],
   "source": [
    "df1['column_6'] = np.random.rand(10)\n",
    "df1"
   ]
  },
  {
   "cell_type": "markdown",
   "id": "boolean-respondent",
   "metadata": {},
   "source": [
    "## DataFrame Attributes\n",
    "\n",
    "We use the DataFrame df1 defined above."
   ]
  },
  {
   "cell_type": "code",
   "execution_count": 34,
   "id": "municipal-shell",
   "metadata": {},
   "outputs": [
    {
     "data": {
      "text/plain": [
       "np.float64(0.25717255268044004)"
      ]
     },
     "execution_count": 34,
     "metadata": {},
     "output_type": "execute_result"
    }
   ],
   "source": [
    "df1.at[6, 'column_2']"
   ]
  },
  {
   "cell_type": "code",
   "execution_count": 26,
   "id": "patent-mambo",
   "metadata": {},
   "outputs": [
    {
     "data": {
      "text/plain": [
       "0.09607329873473758"
      ]
     },
     "execution_count": 26,
     "metadata": {},
     "output_type": "execute_result"
    }
   ],
   "source": [
    "df1.iat[5, 1]"
   ]
  },
  {
   "cell_type": "code",
   "execution_count": 27,
   "id": "super-martial",
   "metadata": {
    "tags": []
   },
   "outputs": [
    {
     "data": {
      "text/plain": [
       "RangeIndex(start=1, stop=11, step=1)"
      ]
     },
     "execution_count": 27,
     "metadata": {},
     "output_type": "execute_result"
    }
   ],
   "source": [
    "df1.index"
   ]
  },
  {
   "cell_type": "code",
   "execution_count": 28,
   "id": "breeding-festival",
   "metadata": {},
   "outputs": [
    {
     "data": {
      "text/plain": [
       "Index(['column_1', 'column_2', 'column_3', 'column_4', 'column_5', 'column_6'], dtype='object')"
      ]
     },
     "execution_count": 28,
     "metadata": {},
     "output_type": "execute_result"
    }
   ],
   "source": [
    "df1.columns"
   ]
  },
  {
   "cell_type": "code",
   "execution_count": 29,
   "id": "median-shopping",
   "metadata": {},
   "outputs": [
    {
     "data": {
      "text/plain": [
       "[RangeIndex(start=1, stop=11, step=1),\n",
       " Index(['column_1', 'column_2', 'column_3', 'column_4', 'column_5', 'column_6'], dtype='object')]"
      ]
     },
     "execution_count": 29,
     "metadata": {},
     "output_type": "execute_result"
    }
   ],
   "source": [
    "df1.axes"
   ]
  },
  {
   "cell_type": "code",
   "execution_count": 30,
   "id": "adolescent-morrison",
   "metadata": {},
   "outputs": [
    {
     "data": {
      "text/html": [
       "<div>\n",
       "<style scoped>\n",
       "    .dataframe tbody tr th:only-of-type {\n",
       "        vertical-align: middle;\n",
       "    }\n",
       "\n",
       "    .dataframe tbody tr th {\n",
       "        vertical-align: top;\n",
       "    }\n",
       "\n",
       "    .dataframe thead th {\n",
       "        text-align: right;\n",
       "    }\n",
       "</style>\n",
       "<table border=\"1\" class=\"dataframe\">\n",
       "  <thead>\n",
       "    <tr style=\"text-align: right;\">\n",
       "      <th></th>\n",
       "      <th>column_1</th>\n",
       "      <th>column_2</th>\n",
       "      <th>column_3</th>\n",
       "      <th>column_4</th>\n",
       "      <th>column_5</th>\n",
       "      <th>column_6</th>\n",
       "    </tr>\n",
       "  </thead>\n",
       "  <tbody>\n",
       "    <tr>\n",
       "      <th>1</th>\n",
       "      <td>0.999094</td>\n",
       "      <td>0.647682</td>\n",
       "      <td>0.031766</td>\n",
       "      <td>0.390485</td>\n",
       "      <td>0.004092</td>\n",
       "      <td>0.023134</td>\n",
       "    </tr>\n",
       "    <tr>\n",
       "      <th>7</th>\n",
       "      <td>0.313547</td>\n",
       "      <td>0.192160</td>\n",
       "      <td>0.075076</td>\n",
       "      <td>0.959145</td>\n",
       "      <td>0.590979</td>\n",
       "      <td>0.688038</td>\n",
       "    </tr>\n",
       "    <tr>\n",
       "      <th>10</th>\n",
       "      <td>0.209310</td>\n",
       "      <td>0.968352</td>\n",
       "      <td>0.979370</td>\n",
       "      <td>0.709929</td>\n",
       "      <td>0.620378</td>\n",
       "      <td>0.068132</td>\n",
       "    </tr>\n",
       "  </tbody>\n",
       "</table>\n",
       "</div>"
      ],
      "text/plain": [
       "    column_1  column_2  column_3  column_4  column_5  column_6\n",
       "1   0.999094  0.647682  0.031766  0.390485  0.004092  0.023134\n",
       "7   0.313547  0.192160  0.075076  0.959145  0.590979  0.688038\n",
       "10  0.209310  0.968352  0.979370  0.709929  0.620378  0.068132"
      ]
     },
     "execution_count": 30,
     "metadata": {},
     "output_type": "execute_result"
    }
   ],
   "source": [
    "df1.loc[[1,7,10], :]"
   ]
  },
  {
   "cell_type": "code",
   "execution_count": 31,
   "id": "accomplished-broad",
   "metadata": {},
   "outputs": [
    {
     "data": {
      "text/html": [
       "<div>\n",
       "<style scoped>\n",
       "    .dataframe tbody tr th:only-of-type {\n",
       "        vertical-align: middle;\n",
       "    }\n",
       "\n",
       "    .dataframe tbody tr th {\n",
       "        vertical-align: top;\n",
       "    }\n",
       "\n",
       "    .dataframe thead th {\n",
       "        text-align: right;\n",
       "    }\n",
       "</style>\n",
       "<table border=\"1\" class=\"dataframe\">\n",
       "  <thead>\n",
       "    <tr style=\"text-align: right;\">\n",
       "      <th></th>\n",
       "      <th>column_1</th>\n",
       "      <th>column_3</th>\n",
       "    </tr>\n",
       "  </thead>\n",
       "  <tbody>\n",
       "    <tr>\n",
       "      <th>1</th>\n",
       "      <td>0.999094</td>\n",
       "      <td>0.031766</td>\n",
       "    </tr>\n",
       "    <tr>\n",
       "      <th>7</th>\n",
       "      <td>0.313547</td>\n",
       "      <td>0.075076</td>\n",
       "    </tr>\n",
       "    <tr>\n",
       "      <th>10</th>\n",
       "      <td>0.209310</td>\n",
       "      <td>0.979370</td>\n",
       "    </tr>\n",
       "  </tbody>\n",
       "</table>\n",
       "</div>"
      ],
      "text/plain": [
       "    column_1  column_3\n",
       "1   0.999094  0.031766\n",
       "7   0.313547  0.075076\n",
       "10  0.209310  0.979370"
      ]
     },
     "execution_count": 31,
     "metadata": {},
     "output_type": "execute_result"
    }
   ],
   "source": [
    "df1.loc[[1,7,10], ['column_1', 'column_3']]"
   ]
  },
  {
   "cell_type": "code",
   "execution_count": 32,
   "id": "surprising-duplicate",
   "metadata": {},
   "outputs": [
    {
     "data": {
      "text/html": [
       "<div>\n",
       "<style scoped>\n",
       "    .dataframe tbody tr th:only-of-type {\n",
       "        vertical-align: middle;\n",
       "    }\n",
       "\n",
       "    .dataframe tbody tr th {\n",
       "        vertical-align: top;\n",
       "    }\n",
       "\n",
       "    .dataframe thead th {\n",
       "        text-align: right;\n",
       "    }\n",
       "</style>\n",
       "<table border=\"1\" class=\"dataframe\">\n",
       "  <thead>\n",
       "    <tr style=\"text-align: right;\">\n",
       "      <th></th>\n",
       "      <th>column_1</th>\n",
       "      <th>column_3</th>\n",
       "    </tr>\n",
       "  </thead>\n",
       "  <tbody>\n",
       "    <tr>\n",
       "      <th>1</th>\n",
       "      <td>0.999094</td>\n",
       "      <td>0.031766</td>\n",
       "    </tr>\n",
       "    <tr>\n",
       "      <th>7</th>\n",
       "      <td>0.313547</td>\n",
       "      <td>0.075076</td>\n",
       "    </tr>\n",
       "    <tr>\n",
       "      <th>10</th>\n",
       "      <td>0.209310</td>\n",
       "      <td>0.979370</td>\n",
       "    </tr>\n",
       "  </tbody>\n",
       "</table>\n",
       "</div>"
      ],
      "text/plain": [
       "    column_1  column_3\n",
       "1   0.999094  0.031766\n",
       "7   0.313547  0.075076\n",
       "10  0.209310  0.979370"
      ]
     },
     "execution_count": 32,
     "metadata": {},
     "output_type": "execute_result"
    }
   ],
   "source": [
    "df1.iloc[[0,6,9],[0,2]]"
   ]
  },
  {
   "cell_type": "code",
   "execution_count": 33,
   "id": "grave-acrobat",
   "metadata": {},
   "outputs": [
    {
     "data": {
      "text/html": [
       "<div>\n",
       "<style scoped>\n",
       "    .dataframe tbody tr th:only-of-type {\n",
       "        vertical-align: middle;\n",
       "    }\n",
       "\n",
       "    .dataframe tbody tr th {\n",
       "        vertical-align: top;\n",
       "    }\n",
       "\n",
       "    .dataframe thead th {\n",
       "        text-align: right;\n",
       "    }\n",
       "</style>\n",
       "<table border=\"1\" class=\"dataframe\">\n",
       "  <thead>\n",
       "    <tr style=\"text-align: right;\">\n",
       "      <th></th>\n",
       "      <th>column_1</th>\n",
       "      <th>column_2</th>\n",
       "      <th>column_4</th>\n",
       "      <th>column_5</th>\n",
       "      <th>column_6</th>\n",
       "    </tr>\n",
       "  </thead>\n",
       "  <tbody>\n",
       "    <tr>\n",
       "      <th>4</th>\n",
       "      <td>0.861012</td>\n",
       "      <td>0.551957</td>\n",
       "      <td>0.715491</td>\n",
       "      <td>0.453771</td>\n",
       "      <td>0.403453</td>\n",
       "    </tr>\n",
       "    <tr>\n",
       "      <th>5</th>\n",
       "      <td>0.633205</td>\n",
       "      <td>0.224036</td>\n",
       "      <td>0.809480</td>\n",
       "      <td>0.528043</td>\n",
       "      <td>0.469931</td>\n",
       "    </tr>\n",
       "    <tr>\n",
       "      <th>6</th>\n",
       "      <td>0.798486</td>\n",
       "      <td>0.096073</td>\n",
       "      <td>0.809944</td>\n",
       "      <td>0.264736</td>\n",
       "      <td>0.945147</td>\n",
       "    </tr>\n",
       "    <tr>\n",
       "      <th>7</th>\n",
       "      <td>0.313547</td>\n",
       "      <td>0.192160</td>\n",
       "      <td>0.959145</td>\n",
       "      <td>0.590979</td>\n",
       "      <td>0.688038</td>\n",
       "    </tr>\n",
       "  </tbody>\n",
       "</table>\n",
       "</div>"
      ],
      "text/plain": [
       "   column_1  column_2  column_4  column_5  column_6\n",
       "4  0.861012  0.551957  0.715491  0.453771  0.403453\n",
       "5  0.633205  0.224036  0.809480  0.528043  0.469931\n",
       "6  0.798486  0.096073  0.809944  0.264736  0.945147\n",
       "7  0.313547  0.192160  0.959145  0.590979  0.688038"
      ]
     },
     "execution_count": 33,
     "metadata": {},
     "output_type": "execute_result"
    }
   ],
   "source": [
    "df1.loc[(df1.index > 3) & (df1.index <= 7), df1.columns != 'column_3']"
   ]
  },
  {
   "cell_type": "code",
   "execution_count": 34,
   "id": "three-progress",
   "metadata": {},
   "outputs": [
    {
     "data": {
      "text/plain": [
       "(10, 6)"
      ]
     },
     "execution_count": 34,
     "metadata": {},
     "output_type": "execute_result"
    }
   ],
   "source": [
    "df1.shape"
   ]
  },
  {
   "cell_type": "code",
   "execution_count": 35,
   "id": "south-wayne",
   "metadata": {},
   "outputs": [
    {
     "data": {
      "text/plain": [
       "2"
      ]
     },
     "execution_count": 35,
     "metadata": {},
     "output_type": "execute_result"
    }
   ],
   "source": [
    "df1.ndim"
   ]
  },
  {
   "cell_type": "code",
   "execution_count": 36,
   "id": "incredible-negative",
   "metadata": {},
   "outputs": [
    {
     "data": {
      "text/plain": [
       "60"
      ]
     },
     "execution_count": 36,
     "metadata": {},
     "output_type": "execute_result"
    }
   ],
   "source": [
    "df1.size"
   ]
  },
  {
   "cell_type": "code",
   "execution_count": 37,
   "id": "amateur-perfume",
   "metadata": {},
   "outputs": [
    {
     "data": {
      "text/plain": [
       "array([[0.99909389, 0.64768242, 0.03176591, 0.39048473, 0.00409248,\n",
       "        0.02313397],\n",
       "       [0.50413484, 0.05074405, 0.13910772, 0.8948549 , 0.19483533,\n",
       "        0.2827974 ],\n",
       "       [0.78727386, 0.16430398, 0.94017413, 0.13657167, 0.41491704,\n",
       "        0.50077079],\n",
       "       [0.86101183, 0.55195654, 0.74982833, 0.71549127, 0.45377093,\n",
       "        0.40345295],\n",
       "       [0.63320454, 0.22403617, 0.69504948, 0.80948003, 0.52804335,\n",
       "        0.46993146],\n",
       "       [0.79848569, 0.0960733 , 0.72708292, 0.8099438 , 0.26473611,\n",
       "        0.94514745],\n",
       "       [0.31354707, 0.19216042, 0.07507637, 0.95914538, 0.59097892,\n",
       "        0.68803845],\n",
       "       [0.82938146, 0.91215625, 0.40943282, 0.67031839, 0.82330516,\n",
       "        0.91840485],\n",
       "       [0.25536228, 0.10967436, 0.40358192, 0.93015562, 0.15731178,\n",
       "        0.5728634 ],\n",
       "       [0.20930988, 0.96835213, 0.97936965, 0.70992882, 0.62037765,\n",
       "        0.06813211]])"
      ]
     },
     "execution_count": 37,
     "metadata": {},
     "output_type": "execute_result"
    }
   ],
   "source": [
    "df1.values"
   ]
  },
  {
   "cell_type": "markdown",
   "id": "incorporated-freedom",
   "metadata": {},
   "source": [
    "## DataFrame Methods\n",
    "\n",
    "We use the DataFrame df1 defined above."
   ]
  },
  {
   "cell_type": "markdown",
   "id": "novel-affair",
   "metadata": {},
   "source": [
    "### Exploration Methods"
   ]
  },
  {
   "cell_type": "code",
   "execution_count": 38,
   "id": "honey-preference",
   "metadata": {},
   "outputs": [
    {
     "data": {
      "text/html": [
       "<div>\n",
       "<style scoped>\n",
       "    .dataframe tbody tr th:only-of-type {\n",
       "        vertical-align: middle;\n",
       "    }\n",
       "\n",
       "    .dataframe tbody tr th {\n",
       "        vertical-align: top;\n",
       "    }\n",
       "\n",
       "    .dataframe thead th {\n",
       "        text-align: right;\n",
       "    }\n",
       "</style>\n",
       "<table border=\"1\" class=\"dataframe\">\n",
       "  <thead>\n",
       "    <tr style=\"text-align: right;\">\n",
       "      <th></th>\n",
       "      <th>column_1</th>\n",
       "      <th>column_2</th>\n",
       "      <th>column_3</th>\n",
       "      <th>column_4</th>\n",
       "      <th>column_5</th>\n",
       "      <th>column_6</th>\n",
       "    </tr>\n",
       "  </thead>\n",
       "  <tbody>\n",
       "    <tr>\n",
       "      <th>1</th>\n",
       "      <td>0.999094</td>\n",
       "      <td>0.647682</td>\n",
       "      <td>0.031766</td>\n",
       "      <td>0.390485</td>\n",
       "      <td>0.004092</td>\n",
       "      <td>0.023134</td>\n",
       "    </tr>\n",
       "    <tr>\n",
       "      <th>2</th>\n",
       "      <td>0.504135</td>\n",
       "      <td>0.050744</td>\n",
       "      <td>0.139108</td>\n",
       "      <td>0.894855</td>\n",
       "      <td>0.194835</td>\n",
       "      <td>0.282797</td>\n",
       "    </tr>\n",
       "    <tr>\n",
       "      <th>3</th>\n",
       "      <td>0.787274</td>\n",
       "      <td>0.164304</td>\n",
       "      <td>0.940174</td>\n",
       "      <td>0.136572</td>\n",
       "      <td>0.414917</td>\n",
       "      <td>0.500771</td>\n",
       "    </tr>\n",
       "  </tbody>\n",
       "</table>\n",
       "</div>"
      ],
      "text/plain": [
       "   column_1  column_2  column_3  column_4  column_5  column_6\n",
       "1  0.999094  0.647682  0.031766  0.390485  0.004092  0.023134\n",
       "2  0.504135  0.050744  0.139108  0.894855  0.194835  0.282797\n",
       "3  0.787274  0.164304  0.940174  0.136572  0.414917  0.500771"
      ]
     },
     "execution_count": 38,
     "metadata": {},
     "output_type": "execute_result"
    }
   ],
   "source": [
    "df1.head(3)"
   ]
  },
  {
   "cell_type": "code",
   "execution_count": 39,
   "id": "thirty-shower",
   "metadata": {},
   "outputs": [
    {
     "data": {
      "text/html": [
       "<div>\n",
       "<style scoped>\n",
       "    .dataframe tbody tr th:only-of-type {\n",
       "        vertical-align: middle;\n",
       "    }\n",
       "\n",
       "    .dataframe tbody tr th {\n",
       "        vertical-align: top;\n",
       "    }\n",
       "\n",
       "    .dataframe thead th {\n",
       "        text-align: right;\n",
       "    }\n",
       "</style>\n",
       "<table border=\"1\" class=\"dataframe\">\n",
       "  <thead>\n",
       "    <tr style=\"text-align: right;\">\n",
       "      <th></th>\n",
       "      <th>column_1</th>\n",
       "      <th>column_2</th>\n",
       "      <th>column_3</th>\n",
       "      <th>column_4</th>\n",
       "      <th>column_5</th>\n",
       "      <th>column_6</th>\n",
       "    </tr>\n",
       "  </thead>\n",
       "  <tbody>\n",
       "    <tr>\n",
       "      <th>9</th>\n",
       "      <td>0.255362</td>\n",
       "      <td>0.109674</td>\n",
       "      <td>0.403582</td>\n",
       "      <td>0.930156</td>\n",
       "      <td>0.157312</td>\n",
       "      <td>0.572863</td>\n",
       "    </tr>\n",
       "    <tr>\n",
       "      <th>10</th>\n",
       "      <td>0.209310</td>\n",
       "      <td>0.968352</td>\n",
       "      <td>0.979370</td>\n",
       "      <td>0.709929</td>\n",
       "      <td>0.620378</td>\n",
       "      <td>0.068132</td>\n",
       "    </tr>\n",
       "  </tbody>\n",
       "</table>\n",
       "</div>"
      ],
      "text/plain": [
       "    column_1  column_2  column_3  column_4  column_5  column_6\n",
       "9   0.255362  0.109674  0.403582  0.930156  0.157312  0.572863\n",
       "10  0.209310  0.968352  0.979370  0.709929  0.620378  0.068132"
      ]
     },
     "execution_count": 39,
     "metadata": {},
     "output_type": "execute_result"
    }
   ],
   "source": [
    "df1.tail(2)"
   ]
  },
  {
   "cell_type": "code",
   "execution_count": 40,
   "id": "miniature-feeling",
   "metadata": {},
   "outputs": [
    {
     "name": "stdout",
     "output_type": "stream",
     "text": [
      "<class 'pandas.core.frame.DataFrame'>\n",
      "RangeIndex: 10 entries, 1 to 10\n",
      "Data columns (total 6 columns):\n",
      " #   Column    Non-Null Count  Dtype  \n",
      "---  ------    --------------  -----  \n",
      " 0   column_1  10 non-null     float64\n",
      " 1   column_2  10 non-null     float64\n",
      " 2   column_3  10 non-null     float64\n",
      " 3   column_4  10 non-null     float64\n",
      " 4   column_5  10 non-null     float64\n",
      " 5   column_6  10 non-null     float64\n",
      "dtypes: float64(6)\n",
      "memory usage: 612.0 bytes\n"
     ]
    }
   ],
   "source": [
    "df1.info()"
   ]
  },
  {
   "cell_type": "code",
   "execution_count": 41,
   "id": "distant-average",
   "metadata": {},
   "outputs": [
    {
     "data": {
      "text/plain": [
       "column_1    10\n",
       "column_2    10\n",
       "column_3    10\n",
       "column_4    10\n",
       "column_5    10\n",
       "column_6    10\n",
       "dtype: int64"
      ]
     },
     "execution_count": 41,
     "metadata": {},
     "output_type": "execute_result"
    }
   ],
   "source": [
    "df1.nunique()"
   ]
  },
  {
   "cell_type": "code",
   "execution_count": 42,
   "id": "immediate-basement",
   "metadata": {},
   "outputs": [
    {
     "data": {
      "text/plain": [
       "1     6\n",
       "2     6\n",
       "3     6\n",
       "4     6\n",
       "5     6\n",
       "6     6\n",
       "7     6\n",
       "8     6\n",
       "9     6\n",
       "10    6\n",
       "dtype: int64"
      ]
     },
     "execution_count": 42,
     "metadata": {},
     "output_type": "execute_result"
    }
   ],
   "source": [
    "df1.nunique(axis=1)"
   ]
  },
  {
   "cell_type": "code",
   "execution_count": 43,
   "id": "absent-words",
   "metadata": {},
   "outputs": [
    {
     "data": {
      "text/html": [
       "<div>\n",
       "<style scoped>\n",
       "    .dataframe tbody tr th:only-of-type {\n",
       "        vertical-align: middle;\n",
       "    }\n",
       "\n",
       "    .dataframe tbody tr th {\n",
       "        vertical-align: top;\n",
       "    }\n",
       "\n",
       "    .dataframe thead th {\n",
       "        text-align: right;\n",
       "    }\n",
       "</style>\n",
       "<table border=\"1\" class=\"dataframe\">\n",
       "  <thead>\n",
       "    <tr style=\"text-align: right;\">\n",
       "      <th></th>\n",
       "      <th>column_1</th>\n",
       "      <th>column_2</th>\n",
       "      <th>column_3</th>\n",
       "      <th>column_4</th>\n",
       "      <th>column_5</th>\n",
       "      <th>column_6</th>\n",
       "    </tr>\n",
       "  </thead>\n",
       "  <tbody>\n",
       "    <tr>\n",
       "      <th>1</th>\n",
       "      <td>False</td>\n",
       "      <td>False</td>\n",
       "      <td>False</td>\n",
       "      <td>False</td>\n",
       "      <td>False</td>\n",
       "      <td>False</td>\n",
       "    </tr>\n",
       "    <tr>\n",
       "      <th>2</th>\n",
       "      <td>False</td>\n",
       "      <td>False</td>\n",
       "      <td>False</td>\n",
       "      <td>False</td>\n",
       "      <td>False</td>\n",
       "      <td>False</td>\n",
       "    </tr>\n",
       "    <tr>\n",
       "      <th>3</th>\n",
       "      <td>False</td>\n",
       "      <td>False</td>\n",
       "      <td>False</td>\n",
       "      <td>False</td>\n",
       "      <td>False</td>\n",
       "      <td>False</td>\n",
       "    </tr>\n",
       "    <tr>\n",
       "      <th>4</th>\n",
       "      <td>False</td>\n",
       "      <td>False</td>\n",
       "      <td>False</td>\n",
       "      <td>False</td>\n",
       "      <td>False</td>\n",
       "      <td>False</td>\n",
       "    </tr>\n",
       "    <tr>\n",
       "      <th>5</th>\n",
       "      <td>False</td>\n",
       "      <td>False</td>\n",
       "      <td>False</td>\n",
       "      <td>False</td>\n",
       "      <td>False</td>\n",
       "      <td>False</td>\n",
       "    </tr>\n",
       "    <tr>\n",
       "      <th>6</th>\n",
       "      <td>False</td>\n",
       "      <td>False</td>\n",
       "      <td>False</td>\n",
       "      <td>False</td>\n",
       "      <td>False</td>\n",
       "      <td>False</td>\n",
       "    </tr>\n",
       "    <tr>\n",
       "      <th>7</th>\n",
       "      <td>False</td>\n",
       "      <td>False</td>\n",
       "      <td>False</td>\n",
       "      <td>False</td>\n",
       "      <td>False</td>\n",
       "      <td>False</td>\n",
       "    </tr>\n",
       "    <tr>\n",
       "      <th>8</th>\n",
       "      <td>False</td>\n",
       "      <td>False</td>\n",
       "      <td>False</td>\n",
       "      <td>False</td>\n",
       "      <td>False</td>\n",
       "      <td>False</td>\n",
       "    </tr>\n",
       "    <tr>\n",
       "      <th>9</th>\n",
       "      <td>False</td>\n",
       "      <td>False</td>\n",
       "      <td>False</td>\n",
       "      <td>False</td>\n",
       "      <td>False</td>\n",
       "      <td>False</td>\n",
       "    </tr>\n",
       "    <tr>\n",
       "      <th>10</th>\n",
       "      <td>False</td>\n",
       "      <td>False</td>\n",
       "      <td>False</td>\n",
       "      <td>False</td>\n",
       "      <td>False</td>\n",
       "      <td>False</td>\n",
       "    </tr>\n",
       "  </tbody>\n",
       "</table>\n",
       "</div>"
      ],
      "text/plain": [
       "    column_1  column_2  column_3  column_4  column_5  column_6\n",
       "1      False     False     False     False     False     False\n",
       "2      False     False     False     False     False     False\n",
       "3      False     False     False     False     False     False\n",
       "4      False     False     False     False     False     False\n",
       "5      False     False     False     False     False     False\n",
       "6      False     False     False     False     False     False\n",
       "7      False     False     False     False     False     False\n",
       "8      False     False     False     False     False     False\n",
       "9      False     False     False     False     False     False\n",
       "10     False     False     False     False     False     False"
      ]
     },
     "execution_count": 43,
     "metadata": {},
     "output_type": "execute_result"
    }
   ],
   "source": [
    "df1.isna()"
   ]
  },
  {
   "cell_type": "code",
   "execution_count": 44,
   "id": "recognized-playback",
   "metadata": {},
   "outputs": [
    {
     "data": {
      "text/plain": [
       "column_1    10\n",
       "column_2    10\n",
       "column_3    10\n",
       "column_4    10\n",
       "column_5    10\n",
       "column_6    10\n",
       "dtype: int64"
      ]
     },
     "execution_count": 44,
     "metadata": {},
     "output_type": "execute_result"
    }
   ],
   "source": [
    "df1.count()"
   ]
  },
  {
   "cell_type": "code",
   "execution_count": 45,
   "id": "legislative-franchise",
   "metadata": {},
   "outputs": [
    {
     "data": {
      "text/plain": [
       "column_1  column_2  column_3  column_4  column_5  column_6\n",
       "0.209310  0.968352  0.979370  0.709929  0.620378  0.068132    1\n",
       "0.255362  0.109674  0.403582  0.930156  0.157312  0.572863    1\n",
       "0.313547  0.192160  0.075076  0.959145  0.590979  0.688038    1\n",
       "0.504135  0.050744  0.139108  0.894855  0.194835  0.282797    1\n",
       "0.633205  0.224036  0.695049  0.809480  0.528043  0.469931    1\n",
       "0.787274  0.164304  0.940174  0.136572  0.414917  0.500771    1\n",
       "0.798486  0.096073  0.727083  0.809944  0.264736  0.945147    1\n",
       "0.829381  0.912156  0.409433  0.670318  0.823305  0.918405    1\n",
       "0.861012  0.551957  0.749828  0.715491  0.453771  0.403453    1\n",
       "0.999094  0.647682  0.031766  0.390485  0.004092  0.023134    1\n",
       "Name: count, dtype: int64"
      ]
     },
     "execution_count": 45,
     "metadata": {},
     "output_type": "execute_result"
    }
   ],
   "source": [
    "df1.value_counts()"
   ]
  },
  {
   "cell_type": "code",
   "execution_count": 46,
   "id": "satisfactory-profile",
   "metadata": {},
   "outputs": [
    {
     "data": {
      "text/plain": [
       "column_1  column_2  column_3  column_4  column_5  column_6\n",
       "0.209310  0.968352  0.979370  0.709929  0.620378  0.068132    0.1\n",
       "0.255362  0.109674  0.403582  0.930156  0.157312  0.572863    0.1\n",
       "0.313547  0.192160  0.075076  0.959145  0.590979  0.688038    0.1\n",
       "0.504135  0.050744  0.139108  0.894855  0.194835  0.282797    0.1\n",
       "0.633205  0.224036  0.695049  0.809480  0.528043  0.469931    0.1\n",
       "0.787274  0.164304  0.940174  0.136572  0.414917  0.500771    0.1\n",
       "0.798486  0.096073  0.727083  0.809944  0.264736  0.945147    0.1\n",
       "0.829381  0.912156  0.409433  0.670318  0.823305  0.918405    0.1\n",
       "0.861012  0.551957  0.749828  0.715491  0.453771  0.403453    0.1\n",
       "0.999094  0.647682  0.031766  0.390485  0.004092  0.023134    0.1\n",
       "Name: proportion, dtype: float64"
      ]
     },
     "execution_count": 46,
     "metadata": {},
     "output_type": "execute_result"
    }
   ],
   "source": [
    "df1.value_counts(normalize=True)"
   ]
  },
  {
   "cell_type": "markdown",
   "id": "nominated-sellers",
   "metadata": {},
   "source": [
    "### Statistical Analysis (Basic) and Operations"
   ]
  },
  {
   "cell_type": "code",
   "execution_count": 47,
   "id": "considerable-spouse",
   "metadata": {},
   "outputs": [
    {
     "data": {
      "text/html": [
       "<div>\n",
       "<style scoped>\n",
       "    .dataframe tbody tr th:only-of-type {\n",
       "        vertical-align: middle;\n",
       "    }\n",
       "\n",
       "    .dataframe tbody tr th {\n",
       "        vertical-align: top;\n",
       "    }\n",
       "\n",
       "    .dataframe thead th {\n",
       "        text-align: right;\n",
       "    }\n",
       "</style>\n",
       "<table border=\"1\" class=\"dataframe\">\n",
       "  <thead>\n",
       "    <tr style=\"text-align: right;\">\n",
       "      <th></th>\n",
       "      <th>column_1</th>\n",
       "      <th>column_2</th>\n",
       "      <th>column_3</th>\n",
       "      <th>column_4</th>\n",
       "      <th>column_5</th>\n",
       "      <th>column_6</th>\n",
       "    </tr>\n",
       "  </thead>\n",
       "  <tbody>\n",
       "    <tr>\n",
       "      <th>count</th>\n",
       "      <td>10.000000</td>\n",
       "      <td>10.000000</td>\n",
       "      <td>10.000000</td>\n",
       "      <td>10.000000</td>\n",
       "      <td>10.000000</td>\n",
       "      <td>10.000000</td>\n",
       "    </tr>\n",
       "    <tr>\n",
       "      <th>mean</th>\n",
       "      <td>0.619081</td>\n",
       "      <td>0.391714</td>\n",
       "      <td>0.515047</td>\n",
       "      <td>0.702637</td>\n",
       "      <td>0.405237</td>\n",
       "      <td>0.487267</td>\n",
       "    </tr>\n",
       "    <tr>\n",
       "      <th>std</th>\n",
       "      <td>0.281782</td>\n",
       "      <td>0.349195</td>\n",
       "      <td>0.352901</td>\n",
       "      <td>0.257460</td>\n",
       "      <td>0.249330</td>\n",
       "      <td>0.313330</td>\n",
       "    </tr>\n",
       "    <tr>\n",
       "      <th>min</th>\n",
       "      <td>0.209310</td>\n",
       "      <td>0.050744</td>\n",
       "      <td>0.031766</td>\n",
       "      <td>0.136572</td>\n",
       "      <td>0.004092</td>\n",
       "      <td>0.023134</td>\n",
       "    </tr>\n",
       "    <tr>\n",
       "      <th>25%</th>\n",
       "      <td>0.361194</td>\n",
       "      <td>0.123332</td>\n",
       "      <td>0.205226</td>\n",
       "      <td>0.680221</td>\n",
       "      <td>0.212311</td>\n",
       "      <td>0.312961</td>\n",
       "    </tr>\n",
       "    <tr>\n",
       "      <th>50%</th>\n",
       "      <td>0.710239</td>\n",
       "      <td>0.208098</td>\n",
       "      <td>0.552241</td>\n",
       "      <td>0.762486</td>\n",
       "      <td>0.434344</td>\n",
       "      <td>0.485351</td>\n",
       "    </tr>\n",
       "    <tr>\n",
       "      <th>75%</th>\n",
       "      <td>0.821658</td>\n",
       "      <td>0.623751</td>\n",
       "      <td>0.744142</td>\n",
       "      <td>0.873627</td>\n",
       "      <td>0.575245</td>\n",
       "      <td>0.659245</td>\n",
       "    </tr>\n",
       "    <tr>\n",
       "      <th>max</th>\n",
       "      <td>0.999094</td>\n",
       "      <td>0.968352</td>\n",
       "      <td>0.979370</td>\n",
       "      <td>0.959145</td>\n",
       "      <td>0.823305</td>\n",
       "      <td>0.945147</td>\n",
       "    </tr>\n",
       "  </tbody>\n",
       "</table>\n",
       "</div>"
      ],
      "text/plain": [
       "        column_1   column_2   column_3   column_4   column_5   column_6\n",
       "count  10.000000  10.000000  10.000000  10.000000  10.000000  10.000000\n",
       "mean    0.619081   0.391714   0.515047   0.702637   0.405237   0.487267\n",
       "std     0.281782   0.349195   0.352901   0.257460   0.249330   0.313330\n",
       "min     0.209310   0.050744   0.031766   0.136572   0.004092   0.023134\n",
       "25%     0.361194   0.123332   0.205226   0.680221   0.212311   0.312961\n",
       "50%     0.710239   0.208098   0.552241   0.762486   0.434344   0.485351\n",
       "75%     0.821658   0.623751   0.744142   0.873627   0.575245   0.659245\n",
       "max     0.999094   0.968352   0.979370   0.959145   0.823305   0.945147"
      ]
     },
     "execution_count": 47,
     "metadata": {},
     "output_type": "execute_result"
    }
   ],
   "source": [
    "df1.describe()"
   ]
  },
  {
   "cell_type": "code",
   "execution_count": 48,
   "id": "finished-intersection",
   "metadata": {},
   "outputs": [
    {
     "data": {
      "text/html": [
       "<div>\n",
       "<style scoped>\n",
       "    .dataframe tbody tr th:only-of-type {\n",
       "        vertical-align: middle;\n",
       "    }\n",
       "\n",
       "    .dataframe tbody tr th {\n",
       "        vertical-align: top;\n",
       "    }\n",
       "\n",
       "    .dataframe thead th {\n",
       "        text-align: right;\n",
       "    }\n",
       "</style>\n",
       "<table border=\"1\" class=\"dataframe\">\n",
       "  <thead>\n",
       "    <tr style=\"text-align: right;\">\n",
       "      <th></th>\n",
       "      <th>column_1</th>\n",
       "      <th>column_2</th>\n",
       "      <th>column_3</th>\n",
       "      <th>column_4</th>\n",
       "      <th>column_5</th>\n",
       "      <th>column_6</th>\n",
       "    </tr>\n",
       "  </thead>\n",
       "  <tbody>\n",
       "    <tr>\n",
       "      <th>count</th>\n",
       "      <td>10.000000</td>\n",
       "      <td>10.000000</td>\n",
       "      <td>10.000000</td>\n",
       "      <td>10.000000</td>\n",
       "      <td>10.000000</td>\n",
       "      <td>10.000000</td>\n",
       "    </tr>\n",
       "    <tr>\n",
       "      <th>mean</th>\n",
       "      <td>0.619081</td>\n",
       "      <td>0.391714</td>\n",
       "      <td>0.515047</td>\n",
       "      <td>0.702637</td>\n",
       "      <td>0.405237</td>\n",
       "      <td>0.487267</td>\n",
       "    </tr>\n",
       "    <tr>\n",
       "      <th>std</th>\n",
       "      <td>0.281782</td>\n",
       "      <td>0.349195</td>\n",
       "      <td>0.352901</td>\n",
       "      <td>0.257460</td>\n",
       "      <td>0.249330</td>\n",
       "      <td>0.313330</td>\n",
       "    </tr>\n",
       "    <tr>\n",
       "      <th>min</th>\n",
       "      <td>0.209310</td>\n",
       "      <td>0.050744</td>\n",
       "      <td>0.031766</td>\n",
       "      <td>0.136572</td>\n",
       "      <td>0.004092</td>\n",
       "      <td>0.023134</td>\n",
       "    </tr>\n",
       "    <tr>\n",
       "      <th>13%</th>\n",
       "      <td>0.265254</td>\n",
       "      <td>0.098385</td>\n",
       "      <td>0.085962</td>\n",
       "      <td>0.438056</td>\n",
       "      <td>0.163691</td>\n",
       "      <td>0.104625</td>\n",
       "    </tr>\n",
       "    <tr>\n",
       "      <th>50%</th>\n",
       "      <td>0.710239</td>\n",
       "      <td>0.208098</td>\n",
       "      <td>0.552241</td>\n",
       "      <td>0.762486</td>\n",
       "      <td>0.434344</td>\n",
       "      <td>0.485351</td>\n",
       "    </tr>\n",
       "    <tr>\n",
       "      <th>87%</th>\n",
       "      <td>0.855635</td>\n",
       "      <td>0.867196</td>\n",
       "      <td>0.907815</td>\n",
       "      <td>0.924154</td>\n",
       "      <td>0.615380</td>\n",
       "      <td>0.879243</td>\n",
       "    </tr>\n",
       "    <tr>\n",
       "      <th>99%</th>\n",
       "      <td>0.986667</td>\n",
       "      <td>0.963295</td>\n",
       "      <td>0.975842</td>\n",
       "      <td>0.956536</td>\n",
       "      <td>0.805042</td>\n",
       "      <td>0.942741</td>\n",
       "    </tr>\n",
       "    <tr>\n",
       "      <th>max</th>\n",
       "      <td>0.999094</td>\n",
       "      <td>0.968352</td>\n",
       "      <td>0.979370</td>\n",
       "      <td>0.959145</td>\n",
       "      <td>0.823305</td>\n",
       "      <td>0.945147</td>\n",
       "    </tr>\n",
       "  </tbody>\n",
       "</table>\n",
       "</div>"
      ],
      "text/plain": [
       "        column_1   column_2   column_3   column_4   column_5   column_6\n",
       "count  10.000000  10.000000  10.000000  10.000000  10.000000  10.000000\n",
       "mean    0.619081   0.391714   0.515047   0.702637   0.405237   0.487267\n",
       "std     0.281782   0.349195   0.352901   0.257460   0.249330   0.313330\n",
       "min     0.209310   0.050744   0.031766   0.136572   0.004092   0.023134\n",
       "13%     0.265254   0.098385   0.085962   0.438056   0.163691   0.104625\n",
       "50%     0.710239   0.208098   0.552241   0.762486   0.434344   0.485351\n",
       "87%     0.855635   0.867196   0.907815   0.924154   0.615380   0.879243\n",
       "99%     0.986667   0.963295   0.975842   0.956536   0.805042   0.942741\n",
       "max     0.999094   0.968352   0.979370   0.959145   0.823305   0.945147"
      ]
     },
     "execution_count": 48,
     "metadata": {},
     "output_type": "execute_result"
    }
   ],
   "source": [
    "df1.describe(percentiles=[0.13, 0.87, 0.99])"
   ]
  },
  {
   "cell_type": "code",
   "execution_count": 49,
   "id": "compliant-skirt",
   "metadata": {},
   "outputs": [
    {
     "data": {
      "text/plain": [
       "column_1    0.619081\n",
       "column_2    0.391714\n",
       "column_3    0.515047\n",
       "column_4    0.702637\n",
       "column_5    0.405237\n",
       "column_6    0.487267\n",
       "dtype: float64"
      ]
     },
     "execution_count": 49,
     "metadata": {},
     "output_type": "execute_result"
    }
   ],
   "source": [
    "df1.mean()"
   ]
  },
  {
   "cell_type": "code",
   "execution_count": 50,
   "id": "ordered-wound",
   "metadata": {},
   "outputs": [
    {
     "data": {
      "text/plain": [
       "1     0.349376\n",
       "2     0.344412\n",
       "3     0.490669\n",
       "4     0.622585\n",
       "5     0.559958\n",
       "6     0.606912\n",
       "7     0.469824\n",
       "8     0.760500\n",
       "9     0.404825\n",
       "10    0.592578\n",
       "dtype: float64"
      ]
     },
     "execution_count": 50,
     "metadata": {},
     "output_type": "execute_result"
    }
   ],
   "source": [
    "df1.mean(axis=1)"
   ]
  },
  {
   "cell_type": "code",
   "execution_count": 51,
   "id": "indonesian-turning",
   "metadata": {},
   "outputs": [
    {
     "data": {
      "text/html": [
       "<div>\n",
       "<style scoped>\n",
       "    .dataframe tbody tr th:only-of-type {\n",
       "        vertical-align: middle;\n",
       "    }\n",
       "\n",
       "    .dataframe tbody tr th {\n",
       "        vertical-align: top;\n",
       "    }\n",
       "\n",
       "    .dataframe thead th {\n",
       "        text-align: right;\n",
       "    }\n",
       "</style>\n",
       "<table border=\"1\" class=\"dataframe\">\n",
       "  <thead>\n",
       "    <tr style=\"text-align: right;\">\n",
       "      <th></th>\n",
       "      <th>column_1</th>\n",
       "      <th>column_2</th>\n",
       "      <th>column_3</th>\n",
       "      <th>column_4</th>\n",
       "      <th>column_5</th>\n",
       "      <th>column_6</th>\n",
       "    </tr>\n",
       "  </thead>\n",
       "  <tbody>\n",
       "    <tr>\n",
       "      <th>column_1</th>\n",
       "      <td>1.000000</td>\n",
       "      <td>0.133574</td>\n",
       "      <td>-0.010126</td>\n",
       "      <td>-0.586533</td>\n",
       "      <td>-0.166328</td>\n",
       "      <td>0.101891</td>\n",
       "    </tr>\n",
       "    <tr>\n",
       "      <th>column_2</th>\n",
       "      <td>0.133574</td>\n",
       "      <td>1.000000</td>\n",
       "      <td>0.166417</td>\n",
       "      <td>-0.237617</td>\n",
       "      <td>0.472292</td>\n",
       "      <td>-0.283900</td>\n",
       "    </tr>\n",
       "    <tr>\n",
       "      <th>column_3</th>\n",
       "      <td>-0.010126</td>\n",
       "      <td>0.166417</td>\n",
       "      <td>1.000000</td>\n",
       "      <td>-0.303855</td>\n",
       "      <td>0.356664</td>\n",
       "      <td>0.043391</td>\n",
       "    </tr>\n",
       "    <tr>\n",
       "      <th>column_4</th>\n",
       "      <td>-0.586533</td>\n",
       "      <td>-0.237617</td>\n",
       "      <td>-0.303855</td>\n",
       "      <td>1.000000</td>\n",
       "      <td>0.099108</td>\n",
       "      <td>0.272884</td>\n",
       "    </tr>\n",
       "    <tr>\n",
       "      <th>column_5</th>\n",
       "      <td>-0.166328</td>\n",
       "      <td>0.472292</td>\n",
       "      <td>0.356664</td>\n",
       "      <td>0.099108</td>\n",
       "      <td>1.000000</td>\n",
       "      <td>0.376828</td>\n",
       "    </tr>\n",
       "    <tr>\n",
       "      <th>column_6</th>\n",
       "      <td>0.101891</td>\n",
       "      <td>-0.283900</td>\n",
       "      <td>0.043391</td>\n",
       "      <td>0.272884</td>\n",
       "      <td>0.376828</td>\n",
       "      <td>1.000000</td>\n",
       "    </tr>\n",
       "  </tbody>\n",
       "</table>\n",
       "</div>"
      ],
      "text/plain": [
       "          column_1  column_2  column_3  column_4  column_5  column_6\n",
       "column_1  1.000000  0.133574 -0.010126 -0.586533 -0.166328  0.101891\n",
       "column_2  0.133574  1.000000  0.166417 -0.237617  0.472292 -0.283900\n",
       "column_3 -0.010126  0.166417  1.000000 -0.303855  0.356664  0.043391\n",
       "column_4 -0.586533 -0.237617 -0.303855  1.000000  0.099108  0.272884\n",
       "column_5 -0.166328  0.472292  0.356664  0.099108  1.000000  0.376828\n",
       "column_6  0.101891 -0.283900  0.043391  0.272884  0.376828  1.000000"
      ]
     },
     "execution_count": 51,
     "metadata": {},
     "output_type": "execute_result"
    }
   ],
   "source": [
    "df1.corr()"
   ]
  },
  {
   "cell_type": "code",
   "execution_count": 52,
   "id": "stopped-treasurer",
   "metadata": {},
   "outputs": [
    {
     "data": {
      "text/html": [
       "<div>\n",
       "<style scoped>\n",
       "    .dataframe tbody tr th:only-of-type {\n",
       "        vertical-align: middle;\n",
       "    }\n",
       "\n",
       "    .dataframe tbody tr th {\n",
       "        vertical-align: top;\n",
       "    }\n",
       "\n",
       "    .dataframe thead th {\n",
       "        text-align: right;\n",
       "    }\n",
       "</style>\n",
       "<table border=\"1\" class=\"dataframe\">\n",
       "  <thead>\n",
       "    <tr style=\"text-align: right;\">\n",
       "      <th></th>\n",
       "      <th>column_1</th>\n",
       "      <th>column_2</th>\n",
       "      <th>column_3</th>\n",
       "      <th>column_4</th>\n",
       "      <th>column_5</th>\n",
       "      <th>column_6</th>\n",
       "    </tr>\n",
       "  </thead>\n",
       "  <tbody>\n",
       "    <tr>\n",
       "      <th>column_1</th>\n",
       "      <td>0.079401</td>\n",
       "      <td>0.013143</td>\n",
       "      <td>-0.001007</td>\n",
       "      <td>-0.042552</td>\n",
       "      <td>-0.011686</td>\n",
       "      <td>0.008996</td>\n",
       "    </tr>\n",
       "    <tr>\n",
       "      <th>column_2</th>\n",
       "      <td>0.013143</td>\n",
       "      <td>0.121937</td>\n",
       "      <td>0.020508</td>\n",
       "      <td>-0.021363</td>\n",
       "      <td>0.041120</td>\n",
       "      <td>-0.031062</td>\n",
       "    </tr>\n",
       "    <tr>\n",
       "      <th>column_3</th>\n",
       "      <td>-0.001007</td>\n",
       "      <td>0.020508</td>\n",
       "      <td>0.124539</td>\n",
       "      <td>-0.027608</td>\n",
       "      <td>0.031383</td>\n",
       "      <td>0.004798</td>\n",
       "    </tr>\n",
       "    <tr>\n",
       "      <th>column_4</th>\n",
       "      <td>-0.042552</td>\n",
       "      <td>-0.021363</td>\n",
       "      <td>-0.027608</td>\n",
       "      <td>0.066286</td>\n",
       "      <td>0.006362</td>\n",
       "      <td>0.022014</td>\n",
       "    </tr>\n",
       "    <tr>\n",
       "      <th>column_5</th>\n",
       "      <td>-0.011686</td>\n",
       "      <td>0.041120</td>\n",
       "      <td>0.031383</td>\n",
       "      <td>0.006362</td>\n",
       "      <td>0.062166</td>\n",
       "      <td>0.029439</td>\n",
       "    </tr>\n",
       "    <tr>\n",
       "      <th>column_6</th>\n",
       "      <td>0.008996</td>\n",
       "      <td>-0.031062</td>\n",
       "      <td>0.004798</td>\n",
       "      <td>0.022014</td>\n",
       "      <td>0.029439</td>\n",
       "      <td>0.098175</td>\n",
       "    </tr>\n",
       "  </tbody>\n",
       "</table>\n",
       "</div>"
      ],
      "text/plain": [
       "          column_1  column_2  column_3  column_4  column_5  column_6\n",
       "column_1  0.079401  0.013143 -0.001007 -0.042552 -0.011686  0.008996\n",
       "column_2  0.013143  0.121937  0.020508 -0.021363  0.041120 -0.031062\n",
       "column_3 -0.001007  0.020508  0.124539 -0.027608  0.031383  0.004798\n",
       "column_4 -0.042552 -0.021363 -0.027608  0.066286  0.006362  0.022014\n",
       "column_5 -0.011686  0.041120  0.031383  0.006362  0.062166  0.029439\n",
       "column_6  0.008996 -0.031062  0.004798  0.022014  0.029439  0.098175"
      ]
     },
     "execution_count": 52,
     "metadata": {},
     "output_type": "execute_result"
    }
   ],
   "source": [
    "df1.cov()"
   ]
  },
  {
   "cell_type": "code",
   "execution_count": 53,
   "id": "recorded-hydrogen",
   "metadata": {},
   "outputs": [
    {
     "data": {
      "text/html": [
       "<div>\n",
       "<style scoped>\n",
       "    .dataframe tbody tr th:only-of-type {\n",
       "        vertical-align: middle;\n",
       "    }\n",
       "\n",
       "    .dataframe tbody tr th {\n",
       "        vertical-align: top;\n",
       "    }\n",
       "\n",
       "    .dataframe thead th {\n",
       "        text-align: right;\n",
       "    }\n",
       "</style>\n",
       "<table border=\"1\" class=\"dataframe\">\n",
       "  <thead>\n",
       "    <tr style=\"text-align: right;\">\n",
       "      <th></th>\n",
       "      <th>column_1</th>\n",
       "      <th>column_2</th>\n",
       "      <th>column_3</th>\n",
       "      <th>column_4</th>\n",
       "      <th>column_5</th>\n",
       "      <th>column_6</th>\n",
       "    </tr>\n",
       "  </thead>\n",
       "  <tbody>\n",
       "    <tr>\n",
       "      <th>9</th>\n",
       "      <td>0.255362</td>\n",
       "      <td>0.109674</td>\n",
       "      <td>0.403582</td>\n",
       "      <td>0.930156</td>\n",
       "      <td>0.157312</td>\n",
       "      <td>0.572863</td>\n",
       "    </tr>\n",
       "    <tr>\n",
       "      <th>3</th>\n",
       "      <td>0.787274</td>\n",
       "      <td>0.164304</td>\n",
       "      <td>0.940174</td>\n",
       "      <td>0.136572</td>\n",
       "      <td>0.414917</td>\n",
       "      <td>0.500771</td>\n",
       "    </tr>\n",
       "    <tr>\n",
       "      <th>6</th>\n",
       "      <td>0.798486</td>\n",
       "      <td>0.096073</td>\n",
       "      <td>0.727083</td>\n",
       "      <td>0.809944</td>\n",
       "      <td>0.264736</td>\n",
       "      <td>0.945147</td>\n",
       "    </tr>\n",
       "  </tbody>\n",
       "</table>\n",
       "</div>"
      ],
      "text/plain": [
       "   column_1  column_2  column_3  column_4  column_5  column_6\n",
       "9  0.255362  0.109674  0.403582  0.930156  0.157312  0.572863\n",
       "3  0.787274  0.164304  0.940174  0.136572  0.414917  0.500771\n",
       "6  0.798486  0.096073  0.727083  0.809944  0.264736  0.945147"
      ]
     },
     "execution_count": 53,
     "metadata": {},
     "output_type": "execute_result"
    }
   ],
   "source": [
    "df1.sample(3, random_state=10)"
   ]
  },
  {
   "cell_type": "markdown",
   "id": "cosmetic-there",
   "metadata": {},
   "source": [
    "### Attributes, Operation Methods, and Transformation Methods"
   ]
  },
  {
   "cell_type": "code",
   "execution_count": 54,
   "id": "continental-bahrain",
   "metadata": {},
   "outputs": [],
   "source": [
    "df1_copy = df1.copy()\n",
    "df1_fakecopy = df1"
   ]
  },
  {
   "cell_type": "code",
   "execution_count": 55,
   "id": "after-consultation",
   "metadata": {},
   "outputs": [],
   "source": [
    "df1_fakecopy.at[1, 'column_1'] = 10"
   ]
  },
  {
   "cell_type": "code",
   "execution_count": 56,
   "id": "registered-windsor",
   "metadata": {},
   "outputs": [],
   "source": [
    "df1_copy.at[1, 'column_1'] = np.nan"
   ]
  },
  {
   "cell_type": "code",
   "execution_count": 57,
   "id": "blond-lawsuit",
   "metadata": {},
   "outputs": [
    {
     "data": {
      "text/html": [
       "<div>\n",
       "<style scoped>\n",
       "    .dataframe tbody tr th:only-of-type {\n",
       "        vertical-align: middle;\n",
       "    }\n",
       "\n",
       "    .dataframe tbody tr th {\n",
       "        vertical-align: top;\n",
       "    }\n",
       "\n",
       "    .dataframe thead th {\n",
       "        text-align: right;\n",
       "    }\n",
       "</style>\n",
       "<table border=\"1\" class=\"dataframe\">\n",
       "  <thead>\n",
       "    <tr style=\"text-align: right;\">\n",
       "      <th></th>\n",
       "      <th>column_1</th>\n",
       "      <th>column_2</th>\n",
       "      <th>column_3</th>\n",
       "      <th>column_4</th>\n",
       "      <th>column_5</th>\n",
       "      <th>column_6</th>\n",
       "    </tr>\n",
       "  </thead>\n",
       "  <tbody>\n",
       "    <tr>\n",
       "      <th>1</th>\n",
       "      <td>NaN</td>\n",
       "      <td>0.647682</td>\n",
       "      <td>0.031766</td>\n",
       "      <td>0.390485</td>\n",
       "      <td>0.004092</td>\n",
       "      <td>0.023134</td>\n",
       "    </tr>\n",
       "    <tr>\n",
       "      <th>2</th>\n",
       "      <td>0.504135</td>\n",
       "      <td>0.050744</td>\n",
       "      <td>0.139108</td>\n",
       "      <td>0.894855</td>\n",
       "      <td>0.194835</td>\n",
       "      <td>0.282797</td>\n",
       "    </tr>\n",
       "    <tr>\n",
       "      <th>3</th>\n",
       "      <td>0.787274</td>\n",
       "      <td>0.164304</td>\n",
       "      <td>0.940174</td>\n",
       "      <td>0.136572</td>\n",
       "      <td>0.414917</td>\n",
       "      <td>0.500771</td>\n",
       "    </tr>\n",
       "    <tr>\n",
       "      <th>4</th>\n",
       "      <td>0.861012</td>\n",
       "      <td>0.551957</td>\n",
       "      <td>0.749828</td>\n",
       "      <td>0.715491</td>\n",
       "      <td>0.453771</td>\n",
       "      <td>0.403453</td>\n",
       "    </tr>\n",
       "    <tr>\n",
       "      <th>5</th>\n",
       "      <td>0.633205</td>\n",
       "      <td>0.224036</td>\n",
       "      <td>0.695049</td>\n",
       "      <td>0.809480</td>\n",
       "      <td>0.528043</td>\n",
       "      <td>0.469931</td>\n",
       "    </tr>\n",
       "    <tr>\n",
       "      <th>6</th>\n",
       "      <td>0.798486</td>\n",
       "      <td>0.096073</td>\n",
       "      <td>0.727083</td>\n",
       "      <td>0.809944</td>\n",
       "      <td>0.264736</td>\n",
       "      <td>0.945147</td>\n",
       "    </tr>\n",
       "    <tr>\n",
       "      <th>7</th>\n",
       "      <td>0.313547</td>\n",
       "      <td>0.192160</td>\n",
       "      <td>0.075076</td>\n",
       "      <td>0.959145</td>\n",
       "      <td>0.590979</td>\n",
       "      <td>0.688038</td>\n",
       "    </tr>\n",
       "    <tr>\n",
       "      <th>8</th>\n",
       "      <td>0.829381</td>\n",
       "      <td>0.912156</td>\n",
       "      <td>0.409433</td>\n",
       "      <td>0.670318</td>\n",
       "      <td>0.823305</td>\n",
       "      <td>0.918405</td>\n",
       "    </tr>\n",
       "    <tr>\n",
       "      <th>9</th>\n",
       "      <td>0.255362</td>\n",
       "      <td>0.109674</td>\n",
       "      <td>0.403582</td>\n",
       "      <td>0.930156</td>\n",
       "      <td>0.157312</td>\n",
       "      <td>0.572863</td>\n",
       "    </tr>\n",
       "    <tr>\n",
       "      <th>10</th>\n",
       "      <td>0.209310</td>\n",
       "      <td>0.968352</td>\n",
       "      <td>0.979370</td>\n",
       "      <td>0.709929</td>\n",
       "      <td>0.620378</td>\n",
       "      <td>0.068132</td>\n",
       "    </tr>\n",
       "  </tbody>\n",
       "</table>\n",
       "</div>"
      ],
      "text/plain": [
       "    column_1  column_2  column_3  column_4  column_5  column_6\n",
       "1        NaN  0.647682  0.031766  0.390485  0.004092  0.023134\n",
       "2   0.504135  0.050744  0.139108  0.894855  0.194835  0.282797\n",
       "3   0.787274  0.164304  0.940174  0.136572  0.414917  0.500771\n",
       "4   0.861012  0.551957  0.749828  0.715491  0.453771  0.403453\n",
       "5   0.633205  0.224036  0.695049  0.809480  0.528043  0.469931\n",
       "6   0.798486  0.096073  0.727083  0.809944  0.264736  0.945147\n",
       "7   0.313547  0.192160  0.075076  0.959145  0.590979  0.688038\n",
       "8   0.829381  0.912156  0.409433  0.670318  0.823305  0.918405\n",
       "9   0.255362  0.109674  0.403582  0.930156  0.157312  0.572863\n",
       "10  0.209310  0.968352  0.979370  0.709929  0.620378  0.068132"
      ]
     },
     "execution_count": 57,
     "metadata": {},
     "output_type": "execute_result"
    }
   ],
   "source": [
    "df1_copy"
   ]
  },
  {
   "cell_type": "code",
   "execution_count": 58,
   "id": "timely-federation",
   "metadata": {},
   "outputs": [
    {
     "data": {
      "text/html": [
       "<div>\n",
       "<style scoped>\n",
       "    .dataframe tbody tr th:only-of-type {\n",
       "        vertical-align: middle;\n",
       "    }\n",
       "\n",
       "    .dataframe tbody tr th {\n",
       "        vertical-align: top;\n",
       "    }\n",
       "\n",
       "    .dataframe thead th {\n",
       "        text-align: right;\n",
       "    }\n",
       "</style>\n",
       "<table border=\"1\" class=\"dataframe\">\n",
       "  <thead>\n",
       "    <tr style=\"text-align: right;\">\n",
       "      <th></th>\n",
       "      <th>column_1</th>\n",
       "      <th>column_2</th>\n",
       "      <th>column_3</th>\n",
       "      <th>column_4</th>\n",
       "      <th>column_5</th>\n",
       "      <th>column_6</th>\n",
       "    </tr>\n",
       "  </thead>\n",
       "  <tbody>\n",
       "    <tr>\n",
       "      <th>1</th>\n",
       "      <td>10.000000</td>\n",
       "      <td>0.647682</td>\n",
       "      <td>0.031766</td>\n",
       "      <td>0.390485</td>\n",
       "      <td>0.004092</td>\n",
       "      <td>0.023134</td>\n",
       "    </tr>\n",
       "    <tr>\n",
       "      <th>2</th>\n",
       "      <td>0.504135</td>\n",
       "      <td>0.050744</td>\n",
       "      <td>0.139108</td>\n",
       "      <td>0.894855</td>\n",
       "      <td>0.194835</td>\n",
       "      <td>0.282797</td>\n",
       "    </tr>\n",
       "    <tr>\n",
       "      <th>3</th>\n",
       "      <td>0.787274</td>\n",
       "      <td>0.164304</td>\n",
       "      <td>0.940174</td>\n",
       "      <td>0.136572</td>\n",
       "      <td>0.414917</td>\n",
       "      <td>0.500771</td>\n",
       "    </tr>\n",
       "    <tr>\n",
       "      <th>4</th>\n",
       "      <td>0.861012</td>\n",
       "      <td>0.551957</td>\n",
       "      <td>0.749828</td>\n",
       "      <td>0.715491</td>\n",
       "      <td>0.453771</td>\n",
       "      <td>0.403453</td>\n",
       "    </tr>\n",
       "    <tr>\n",
       "      <th>5</th>\n",
       "      <td>0.633205</td>\n",
       "      <td>0.224036</td>\n",
       "      <td>0.695049</td>\n",
       "      <td>0.809480</td>\n",
       "      <td>0.528043</td>\n",
       "      <td>0.469931</td>\n",
       "    </tr>\n",
       "    <tr>\n",
       "      <th>6</th>\n",
       "      <td>0.798486</td>\n",
       "      <td>0.096073</td>\n",
       "      <td>0.727083</td>\n",
       "      <td>0.809944</td>\n",
       "      <td>0.264736</td>\n",
       "      <td>0.945147</td>\n",
       "    </tr>\n",
       "    <tr>\n",
       "      <th>7</th>\n",
       "      <td>0.313547</td>\n",
       "      <td>0.192160</td>\n",
       "      <td>0.075076</td>\n",
       "      <td>0.959145</td>\n",
       "      <td>0.590979</td>\n",
       "      <td>0.688038</td>\n",
       "    </tr>\n",
       "    <tr>\n",
       "      <th>8</th>\n",
       "      <td>0.829381</td>\n",
       "      <td>0.912156</td>\n",
       "      <td>0.409433</td>\n",
       "      <td>0.670318</td>\n",
       "      <td>0.823305</td>\n",
       "      <td>0.918405</td>\n",
       "    </tr>\n",
       "    <tr>\n",
       "      <th>9</th>\n",
       "      <td>0.255362</td>\n",
       "      <td>0.109674</td>\n",
       "      <td>0.403582</td>\n",
       "      <td>0.930156</td>\n",
       "      <td>0.157312</td>\n",
       "      <td>0.572863</td>\n",
       "    </tr>\n",
       "    <tr>\n",
       "      <th>10</th>\n",
       "      <td>0.209310</td>\n",
       "      <td>0.968352</td>\n",
       "      <td>0.979370</td>\n",
       "      <td>0.709929</td>\n",
       "      <td>0.620378</td>\n",
       "      <td>0.068132</td>\n",
       "    </tr>\n",
       "  </tbody>\n",
       "</table>\n",
       "</div>"
      ],
      "text/plain": [
       "     column_1  column_2  column_3  column_4  column_5  column_6\n",
       "1   10.000000  0.647682  0.031766  0.390485  0.004092  0.023134\n",
       "2    0.504135  0.050744  0.139108  0.894855  0.194835  0.282797\n",
       "3    0.787274  0.164304  0.940174  0.136572  0.414917  0.500771\n",
       "4    0.861012  0.551957  0.749828  0.715491  0.453771  0.403453\n",
       "5    0.633205  0.224036  0.695049  0.809480  0.528043  0.469931\n",
       "6    0.798486  0.096073  0.727083  0.809944  0.264736  0.945147\n",
       "7    0.313547  0.192160  0.075076  0.959145  0.590979  0.688038\n",
       "8    0.829381  0.912156  0.409433  0.670318  0.823305  0.918405\n",
       "9    0.255362  0.109674  0.403582  0.930156  0.157312  0.572863\n",
       "10   0.209310  0.968352  0.979370  0.709929  0.620378  0.068132"
      ]
     },
     "execution_count": 58,
     "metadata": {},
     "output_type": "execute_result"
    }
   ],
   "source": [
    "df1"
   ]
  },
  {
   "cell_type": "markdown",
   "id": "twenty-cinema",
   "metadata": {},
   "source": [
    "**N.B.:** modification applied to df1_fakecopy modified df1, too!"
   ]
  },
  {
   "cell_type": "code",
   "execution_count": 59,
   "id": "cross-psychiatry",
   "metadata": {},
   "outputs": [
    {
     "data": {
      "text/html": [
       "<div>\n",
       "<style scoped>\n",
       "    .dataframe tbody tr th:only-of-type {\n",
       "        vertical-align: middle;\n",
       "    }\n",
       "\n",
       "    .dataframe tbody tr th {\n",
       "        vertical-align: top;\n",
       "    }\n",
       "\n",
       "    .dataframe thead th {\n",
       "        text-align: right;\n",
       "    }\n",
       "</style>\n",
       "<table border=\"1\" class=\"dataframe\">\n",
       "  <thead>\n",
       "    <tr style=\"text-align: right;\">\n",
       "      <th></th>\n",
       "      <th>column_1</th>\n",
       "      <th>column_2</th>\n",
       "      <th>column_3</th>\n",
       "      <th>column_4</th>\n",
       "      <th>column_5</th>\n",
       "      <th>column_6</th>\n",
       "    </tr>\n",
       "  </thead>\n",
       "  <tbody>\n",
       "    <tr>\n",
       "      <th>1</th>\n",
       "      <td>10.000000</td>\n",
       "      <td>0.647682</td>\n",
       "      <td>0.031766</td>\n",
       "      <td>0.390485</td>\n",
       "      <td>0.004092</td>\n",
       "      <td>0.023134</td>\n",
       "    </tr>\n",
       "    <tr>\n",
       "      <th>2</th>\n",
       "      <td>0.504135</td>\n",
       "      <td>0.050744</td>\n",
       "      <td>0.139108</td>\n",
       "      <td>0.894855</td>\n",
       "      <td>0.194835</td>\n",
       "      <td>0.282797</td>\n",
       "    </tr>\n",
       "    <tr>\n",
       "      <th>3</th>\n",
       "      <td>0.787274</td>\n",
       "      <td>0.164304</td>\n",
       "      <td>0.940174</td>\n",
       "      <td>0.136572</td>\n",
       "      <td>0.414917</td>\n",
       "      <td>0.500771</td>\n",
       "    </tr>\n",
       "    <tr>\n",
       "      <th>4</th>\n",
       "      <td>0.861012</td>\n",
       "      <td>0.551957</td>\n",
       "      <td>0.749828</td>\n",
       "      <td>0.715491</td>\n",
       "      <td>0.453771</td>\n",
       "      <td>0.403453</td>\n",
       "    </tr>\n",
       "    <tr>\n",
       "      <th>5</th>\n",
       "      <td>0.633205</td>\n",
       "      <td>0.224036</td>\n",
       "      <td>0.695049</td>\n",
       "      <td>0.809480</td>\n",
       "      <td>0.528043</td>\n",
       "      <td>0.469931</td>\n",
       "    </tr>\n",
       "    <tr>\n",
       "      <th>6</th>\n",
       "      <td>0.798486</td>\n",
       "      <td>0.096073</td>\n",
       "      <td>0.727083</td>\n",
       "      <td>0.809944</td>\n",
       "      <td>0.264736</td>\n",
       "      <td>0.945147</td>\n",
       "    </tr>\n",
       "    <tr>\n",
       "      <th>7</th>\n",
       "      <td>0.313547</td>\n",
       "      <td>0.192160</td>\n",
       "      <td>0.075076</td>\n",
       "      <td>0.959145</td>\n",
       "      <td>0.590979</td>\n",
       "      <td>0.688038</td>\n",
       "    </tr>\n",
       "    <tr>\n",
       "      <th>8</th>\n",
       "      <td>0.829381</td>\n",
       "      <td>0.912156</td>\n",
       "      <td>0.409433</td>\n",
       "      <td>0.670318</td>\n",
       "      <td>0.823305</td>\n",
       "      <td>0.918405</td>\n",
       "    </tr>\n",
       "    <tr>\n",
       "      <th>9</th>\n",
       "      <td>0.255362</td>\n",
       "      <td>0.109674</td>\n",
       "      <td>0.403582</td>\n",
       "      <td>0.930156</td>\n",
       "      <td>0.157312</td>\n",
       "      <td>0.572863</td>\n",
       "    </tr>\n",
       "    <tr>\n",
       "      <th>10</th>\n",
       "      <td>0.209310</td>\n",
       "      <td>0.968352</td>\n",
       "      <td>0.979370</td>\n",
       "      <td>0.709929</td>\n",
       "      <td>0.620378</td>\n",
       "      <td>0.068132</td>\n",
       "    </tr>\n",
       "    <tr>\n",
       "      <th>1</th>\n",
       "      <td>NaN</td>\n",
       "      <td>0.647682</td>\n",
       "      <td>0.031766</td>\n",
       "      <td>0.390485</td>\n",
       "      <td>0.004092</td>\n",
       "      <td>0.023134</td>\n",
       "    </tr>\n",
       "    <tr>\n",
       "      <th>2</th>\n",
       "      <td>0.504135</td>\n",
       "      <td>0.050744</td>\n",
       "      <td>0.139108</td>\n",
       "      <td>0.894855</td>\n",
       "      <td>0.194835</td>\n",
       "      <td>0.282797</td>\n",
       "    </tr>\n",
       "    <tr>\n",
       "      <th>3</th>\n",
       "      <td>0.787274</td>\n",
       "      <td>0.164304</td>\n",
       "      <td>0.940174</td>\n",
       "      <td>0.136572</td>\n",
       "      <td>0.414917</td>\n",
       "      <td>0.500771</td>\n",
       "    </tr>\n",
       "    <tr>\n",
       "      <th>4</th>\n",
       "      <td>0.861012</td>\n",
       "      <td>0.551957</td>\n",
       "      <td>0.749828</td>\n",
       "      <td>0.715491</td>\n",
       "      <td>0.453771</td>\n",
       "      <td>0.403453</td>\n",
       "    </tr>\n",
       "    <tr>\n",
       "      <th>5</th>\n",
       "      <td>0.633205</td>\n",
       "      <td>0.224036</td>\n",
       "      <td>0.695049</td>\n",
       "      <td>0.809480</td>\n",
       "      <td>0.528043</td>\n",
       "      <td>0.469931</td>\n",
       "    </tr>\n",
       "    <tr>\n",
       "      <th>6</th>\n",
       "      <td>0.798486</td>\n",
       "      <td>0.096073</td>\n",
       "      <td>0.727083</td>\n",
       "      <td>0.809944</td>\n",
       "      <td>0.264736</td>\n",
       "      <td>0.945147</td>\n",
       "    </tr>\n",
       "    <tr>\n",
       "      <th>7</th>\n",
       "      <td>0.313547</td>\n",
       "      <td>0.192160</td>\n",
       "      <td>0.075076</td>\n",
       "      <td>0.959145</td>\n",
       "      <td>0.590979</td>\n",
       "      <td>0.688038</td>\n",
       "    </tr>\n",
       "    <tr>\n",
       "      <th>8</th>\n",
       "      <td>0.829381</td>\n",
       "      <td>0.912156</td>\n",
       "      <td>0.409433</td>\n",
       "      <td>0.670318</td>\n",
       "      <td>0.823305</td>\n",
       "      <td>0.918405</td>\n",
       "    </tr>\n",
       "    <tr>\n",
       "      <th>9</th>\n",
       "      <td>0.255362</td>\n",
       "      <td>0.109674</td>\n",
       "      <td>0.403582</td>\n",
       "      <td>0.930156</td>\n",
       "      <td>0.157312</td>\n",
       "      <td>0.572863</td>\n",
       "    </tr>\n",
       "    <tr>\n",
       "      <th>10</th>\n",
       "      <td>0.209310</td>\n",
       "      <td>0.968352</td>\n",
       "      <td>0.979370</td>\n",
       "      <td>0.709929</td>\n",
       "      <td>0.620378</td>\n",
       "      <td>0.068132</td>\n",
       "    </tr>\n",
       "  </tbody>\n",
       "</table>\n",
       "</div>"
      ],
      "text/plain": [
       "     column_1  column_2  column_3  column_4  column_5  column_6\n",
       "1   10.000000  0.647682  0.031766  0.390485  0.004092  0.023134\n",
       "2    0.504135  0.050744  0.139108  0.894855  0.194835  0.282797\n",
       "3    0.787274  0.164304  0.940174  0.136572  0.414917  0.500771\n",
       "4    0.861012  0.551957  0.749828  0.715491  0.453771  0.403453\n",
       "5    0.633205  0.224036  0.695049  0.809480  0.528043  0.469931\n",
       "6    0.798486  0.096073  0.727083  0.809944  0.264736  0.945147\n",
       "7    0.313547  0.192160  0.075076  0.959145  0.590979  0.688038\n",
       "8    0.829381  0.912156  0.409433  0.670318  0.823305  0.918405\n",
       "9    0.255362  0.109674  0.403582  0.930156  0.157312  0.572863\n",
       "10   0.209310  0.968352  0.979370  0.709929  0.620378  0.068132\n",
       "1         NaN  0.647682  0.031766  0.390485  0.004092  0.023134\n",
       "2    0.504135  0.050744  0.139108  0.894855  0.194835  0.282797\n",
       "3    0.787274  0.164304  0.940174  0.136572  0.414917  0.500771\n",
       "4    0.861012  0.551957  0.749828  0.715491  0.453771  0.403453\n",
       "5    0.633205  0.224036  0.695049  0.809480  0.528043  0.469931\n",
       "6    0.798486  0.096073  0.727083  0.809944  0.264736  0.945147\n",
       "7    0.313547  0.192160  0.075076  0.959145  0.590979  0.688038\n",
       "8    0.829381  0.912156  0.409433  0.670318  0.823305  0.918405\n",
       "9    0.255362  0.109674  0.403582  0.930156  0.157312  0.572863\n",
       "10   0.209310  0.968352  0.979370  0.709929  0.620378  0.068132"
      ]
     },
     "execution_count": 59,
     "metadata": {},
     "output_type": "execute_result"
    }
   ],
   "source": [
    "pd.concat([df1, df1_copy])"
   ]
  },
  {
   "cell_type": "code",
   "execution_count": 60,
   "id": "noted-municipality",
   "metadata": {},
   "outputs": [
    {
     "data": {
      "text/html": [
       "<div>\n",
       "<style scoped>\n",
       "    .dataframe tbody tr th:only-of-type {\n",
       "        vertical-align: middle;\n",
       "    }\n",
       "\n",
       "    .dataframe tbody tr th {\n",
       "        vertical-align: top;\n",
       "    }\n",
       "\n",
       "    .dataframe thead th {\n",
       "        text-align: right;\n",
       "    }\n",
       "</style>\n",
       "<table border=\"1\" class=\"dataframe\">\n",
       "  <thead>\n",
       "    <tr style=\"text-align: right;\">\n",
       "      <th></th>\n",
       "      <th>column_1</th>\n",
       "      <th>column_2</th>\n",
       "      <th>column_3</th>\n",
       "      <th>column_4</th>\n",
       "      <th>column_5</th>\n",
       "      <th>column_6</th>\n",
       "    </tr>\n",
       "  </thead>\n",
       "  <tbody>\n",
       "    <tr>\n",
       "      <th>2</th>\n",
       "      <td>0.504135</td>\n",
       "      <td>0.050744</td>\n",
       "      <td>0.139108</td>\n",
       "      <td>0.894855</td>\n",
       "      <td>0.194835</td>\n",
       "      <td>0.282797</td>\n",
       "    </tr>\n",
       "    <tr>\n",
       "      <th>4</th>\n",
       "      <td>0.861012</td>\n",
       "      <td>0.551957</td>\n",
       "      <td>0.749828</td>\n",
       "      <td>0.715491</td>\n",
       "      <td>0.453771</td>\n",
       "      <td>0.403453</td>\n",
       "    </tr>\n",
       "    <tr>\n",
       "      <th>5</th>\n",
       "      <td>0.633205</td>\n",
       "      <td>0.224036</td>\n",
       "      <td>0.695049</td>\n",
       "      <td>0.809480</td>\n",
       "      <td>0.528043</td>\n",
       "      <td>0.469931</td>\n",
       "    </tr>\n",
       "    <tr>\n",
       "      <th>6</th>\n",
       "      <td>0.798486</td>\n",
       "      <td>0.096073</td>\n",
       "      <td>0.727083</td>\n",
       "      <td>0.809944</td>\n",
       "      <td>0.264736</td>\n",
       "      <td>0.945147</td>\n",
       "    </tr>\n",
       "    <tr>\n",
       "      <th>7</th>\n",
       "      <td>0.313547</td>\n",
       "      <td>0.192160</td>\n",
       "      <td>0.075076</td>\n",
       "      <td>0.959145</td>\n",
       "      <td>0.590979</td>\n",
       "      <td>0.688038</td>\n",
       "    </tr>\n",
       "    <tr>\n",
       "      <th>8</th>\n",
       "      <td>0.829381</td>\n",
       "      <td>0.912156</td>\n",
       "      <td>0.409433</td>\n",
       "      <td>0.670318</td>\n",
       "      <td>0.823305</td>\n",
       "      <td>0.918405</td>\n",
       "    </tr>\n",
       "    <tr>\n",
       "      <th>9</th>\n",
       "      <td>0.255362</td>\n",
       "      <td>0.109674</td>\n",
       "      <td>0.403582</td>\n",
       "      <td>0.930156</td>\n",
       "      <td>0.157312</td>\n",
       "      <td>0.572863</td>\n",
       "    </tr>\n",
       "    <tr>\n",
       "      <th>10</th>\n",
       "      <td>0.209310</td>\n",
       "      <td>0.968352</td>\n",
       "      <td>0.979370</td>\n",
       "      <td>0.709929</td>\n",
       "      <td>0.620378</td>\n",
       "      <td>0.068132</td>\n",
       "    </tr>\n",
       "  </tbody>\n",
       "</table>\n",
       "</div>"
      ],
      "text/plain": [
       "    column_1  column_2  column_3  column_4  column_5  column_6\n",
       "2   0.504135  0.050744  0.139108  0.894855  0.194835  0.282797\n",
       "4   0.861012  0.551957  0.749828  0.715491  0.453771  0.403453\n",
       "5   0.633205  0.224036  0.695049  0.809480  0.528043  0.469931\n",
       "6   0.798486  0.096073  0.727083  0.809944  0.264736  0.945147\n",
       "7   0.313547  0.192160  0.075076  0.959145  0.590979  0.688038\n",
       "8   0.829381  0.912156  0.409433  0.670318  0.823305  0.918405\n",
       "9   0.255362  0.109674  0.403582  0.930156  0.157312  0.572863\n",
       "10  0.209310  0.968352  0.979370  0.709929  0.620378  0.068132"
      ]
     },
     "execution_count": 60,
     "metadata": {},
     "output_type": "execute_result"
    }
   ],
   "source": [
    "df1.drop([1, 3], axis=0)"
   ]
  },
  {
   "cell_type": "code",
   "execution_count": 61,
   "id": "unable-israeli",
   "metadata": {},
   "outputs": [
    {
     "data": {
      "text/html": [
       "<div>\n",
       "<style scoped>\n",
       "    .dataframe tbody tr th:only-of-type {\n",
       "        vertical-align: middle;\n",
       "    }\n",
       "\n",
       "    .dataframe tbody tr th {\n",
       "        vertical-align: top;\n",
       "    }\n",
       "\n",
       "    .dataframe thead th {\n",
       "        text-align: right;\n",
       "    }\n",
       "</style>\n",
       "<table border=\"1\" class=\"dataframe\">\n",
       "  <thead>\n",
       "    <tr style=\"text-align: right;\">\n",
       "      <th></th>\n",
       "      <th>column_1</th>\n",
       "      <th>column_2</th>\n",
       "      <th>column_3</th>\n",
       "      <th>column_4</th>\n",
       "      <th>column_5</th>\n",
       "      <th>column_6</th>\n",
       "    </tr>\n",
       "  </thead>\n",
       "  <tbody>\n",
       "    <tr>\n",
       "      <th>2</th>\n",
       "      <td>0.504135</td>\n",
       "      <td>0.050744</td>\n",
       "      <td>0.139108</td>\n",
       "      <td>0.894855</td>\n",
       "      <td>0.194835</td>\n",
       "      <td>0.282797</td>\n",
       "    </tr>\n",
       "    <tr>\n",
       "      <th>3</th>\n",
       "      <td>0.787274</td>\n",
       "      <td>0.164304</td>\n",
       "      <td>0.940174</td>\n",
       "      <td>0.136572</td>\n",
       "      <td>0.414917</td>\n",
       "      <td>0.500771</td>\n",
       "    </tr>\n",
       "    <tr>\n",
       "      <th>4</th>\n",
       "      <td>0.861012</td>\n",
       "      <td>0.551957</td>\n",
       "      <td>0.749828</td>\n",
       "      <td>0.715491</td>\n",
       "      <td>0.453771</td>\n",
       "      <td>0.403453</td>\n",
       "    </tr>\n",
       "    <tr>\n",
       "      <th>5</th>\n",
       "      <td>0.633205</td>\n",
       "      <td>0.224036</td>\n",
       "      <td>0.695049</td>\n",
       "      <td>0.809480</td>\n",
       "      <td>0.528043</td>\n",
       "      <td>0.469931</td>\n",
       "    </tr>\n",
       "    <tr>\n",
       "      <th>6</th>\n",
       "      <td>0.798486</td>\n",
       "      <td>0.096073</td>\n",
       "      <td>0.727083</td>\n",
       "      <td>0.809944</td>\n",
       "      <td>0.264736</td>\n",
       "      <td>0.945147</td>\n",
       "    </tr>\n",
       "    <tr>\n",
       "      <th>7</th>\n",
       "      <td>0.313547</td>\n",
       "      <td>0.192160</td>\n",
       "      <td>0.075076</td>\n",
       "      <td>0.959145</td>\n",
       "      <td>0.590979</td>\n",
       "      <td>0.688038</td>\n",
       "    </tr>\n",
       "    <tr>\n",
       "      <th>8</th>\n",
       "      <td>0.829381</td>\n",
       "      <td>0.912156</td>\n",
       "      <td>0.409433</td>\n",
       "      <td>0.670318</td>\n",
       "      <td>0.823305</td>\n",
       "      <td>0.918405</td>\n",
       "    </tr>\n",
       "    <tr>\n",
       "      <th>9</th>\n",
       "      <td>0.255362</td>\n",
       "      <td>0.109674</td>\n",
       "      <td>0.403582</td>\n",
       "      <td>0.930156</td>\n",
       "      <td>0.157312</td>\n",
       "      <td>0.572863</td>\n",
       "    </tr>\n",
       "    <tr>\n",
       "      <th>10</th>\n",
       "      <td>0.209310</td>\n",
       "      <td>0.968352</td>\n",
       "      <td>0.979370</td>\n",
       "      <td>0.709929</td>\n",
       "      <td>0.620378</td>\n",
       "      <td>0.068132</td>\n",
       "    </tr>\n",
       "  </tbody>\n",
       "</table>\n",
       "</div>"
      ],
      "text/plain": [
       "    column_1  column_2  column_3  column_4  column_5  column_6\n",
       "2   0.504135  0.050744  0.139108  0.894855  0.194835  0.282797\n",
       "3   0.787274  0.164304  0.940174  0.136572  0.414917  0.500771\n",
       "4   0.861012  0.551957  0.749828  0.715491  0.453771  0.403453\n",
       "5   0.633205  0.224036  0.695049  0.809480  0.528043  0.469931\n",
       "6   0.798486  0.096073  0.727083  0.809944  0.264736  0.945147\n",
       "7   0.313547  0.192160  0.075076  0.959145  0.590979  0.688038\n",
       "8   0.829381  0.912156  0.409433  0.670318  0.823305  0.918405\n",
       "9   0.255362  0.109674  0.403582  0.930156  0.157312  0.572863\n",
       "10  0.209310  0.968352  0.979370  0.709929  0.620378  0.068132"
      ]
     },
     "execution_count": 61,
     "metadata": {},
     "output_type": "execute_result"
    }
   ],
   "source": [
    "df1_copy.dropna()"
   ]
  },
  {
   "cell_type": "code",
   "execution_count": 62,
   "id": "desperate-airplane",
   "metadata": {},
   "outputs": [
    {
     "data": {
      "text/html": [
       "<div>\n",
       "<style scoped>\n",
       "    .dataframe tbody tr th:only-of-type {\n",
       "        vertical-align: middle;\n",
       "    }\n",
       "\n",
       "    .dataframe tbody tr th {\n",
       "        vertical-align: top;\n",
       "    }\n",
       "\n",
       "    .dataframe thead th {\n",
       "        text-align: right;\n",
       "    }\n",
       "</style>\n",
       "<table border=\"1\" class=\"dataframe\">\n",
       "  <thead>\n",
       "    <tr style=\"text-align: right;\">\n",
       "      <th></th>\n",
       "      <th>column_1</th>\n",
       "      <th>column_2</th>\n",
       "      <th>column_3</th>\n",
       "      <th>column_4</th>\n",
       "      <th>column_5</th>\n",
       "      <th>column_6</th>\n",
       "    </tr>\n",
       "  </thead>\n",
       "  <tbody>\n",
       "    <tr>\n",
       "      <th>1</th>\n",
       "      <td>1000.000000</td>\n",
       "      <td>0.647682</td>\n",
       "      <td>0.031766</td>\n",
       "      <td>0.390485</td>\n",
       "      <td>0.004092</td>\n",
       "      <td>0.023134</td>\n",
       "    </tr>\n",
       "    <tr>\n",
       "      <th>2</th>\n",
       "      <td>0.504135</td>\n",
       "      <td>0.050744</td>\n",
       "      <td>0.139108</td>\n",
       "      <td>0.894855</td>\n",
       "      <td>0.194835</td>\n",
       "      <td>0.282797</td>\n",
       "    </tr>\n",
       "    <tr>\n",
       "      <th>3</th>\n",
       "      <td>0.787274</td>\n",
       "      <td>0.164304</td>\n",
       "      <td>0.940174</td>\n",
       "      <td>0.136572</td>\n",
       "      <td>0.414917</td>\n",
       "      <td>0.500771</td>\n",
       "    </tr>\n",
       "    <tr>\n",
       "      <th>4</th>\n",
       "      <td>0.861012</td>\n",
       "      <td>0.551957</td>\n",
       "      <td>0.749828</td>\n",
       "      <td>0.715491</td>\n",
       "      <td>0.453771</td>\n",
       "      <td>0.403453</td>\n",
       "    </tr>\n",
       "    <tr>\n",
       "      <th>5</th>\n",
       "      <td>0.633205</td>\n",
       "      <td>0.224036</td>\n",
       "      <td>0.695049</td>\n",
       "      <td>0.809480</td>\n",
       "      <td>0.528043</td>\n",
       "      <td>0.469931</td>\n",
       "    </tr>\n",
       "    <tr>\n",
       "      <th>6</th>\n",
       "      <td>0.798486</td>\n",
       "      <td>0.096073</td>\n",
       "      <td>0.727083</td>\n",
       "      <td>0.809944</td>\n",
       "      <td>0.264736</td>\n",
       "      <td>0.945147</td>\n",
       "    </tr>\n",
       "    <tr>\n",
       "      <th>7</th>\n",
       "      <td>0.313547</td>\n",
       "      <td>0.192160</td>\n",
       "      <td>0.075076</td>\n",
       "      <td>0.959145</td>\n",
       "      <td>0.590979</td>\n",
       "      <td>0.688038</td>\n",
       "    </tr>\n",
       "    <tr>\n",
       "      <th>8</th>\n",
       "      <td>0.829381</td>\n",
       "      <td>0.912156</td>\n",
       "      <td>0.409433</td>\n",
       "      <td>0.670318</td>\n",
       "      <td>0.823305</td>\n",
       "      <td>0.918405</td>\n",
       "    </tr>\n",
       "    <tr>\n",
       "      <th>9</th>\n",
       "      <td>0.255362</td>\n",
       "      <td>0.109674</td>\n",
       "      <td>0.403582</td>\n",
       "      <td>0.930156</td>\n",
       "      <td>0.157312</td>\n",
       "      <td>0.572863</td>\n",
       "    </tr>\n",
       "    <tr>\n",
       "      <th>10</th>\n",
       "      <td>0.209310</td>\n",
       "      <td>0.968352</td>\n",
       "      <td>0.979370</td>\n",
       "      <td>0.709929</td>\n",
       "      <td>0.620378</td>\n",
       "      <td>0.068132</td>\n",
       "    </tr>\n",
       "  </tbody>\n",
       "</table>\n",
       "</div>"
      ],
      "text/plain": [
       "       column_1  column_2  column_3  column_4  column_5  column_6\n",
       "1   1000.000000  0.647682  0.031766  0.390485  0.004092  0.023134\n",
       "2      0.504135  0.050744  0.139108  0.894855  0.194835  0.282797\n",
       "3      0.787274  0.164304  0.940174  0.136572  0.414917  0.500771\n",
       "4      0.861012  0.551957  0.749828  0.715491  0.453771  0.403453\n",
       "5      0.633205  0.224036  0.695049  0.809480  0.528043  0.469931\n",
       "6      0.798486  0.096073  0.727083  0.809944  0.264736  0.945147\n",
       "7      0.313547  0.192160  0.075076  0.959145  0.590979  0.688038\n",
       "8      0.829381  0.912156  0.409433  0.670318  0.823305  0.918405\n",
       "9      0.255362  0.109674  0.403582  0.930156  0.157312  0.572863\n",
       "10     0.209310  0.968352  0.979370  0.709929  0.620378  0.068132"
      ]
     },
     "execution_count": 62,
     "metadata": {},
     "output_type": "execute_result"
    }
   ],
   "source": [
    "df1_copy.fillna(1000)"
   ]
  },
  {
   "cell_type": "code",
   "execution_count": 63,
   "id": "hybrid-creature",
   "metadata": {},
   "outputs": [
    {
     "data": {
      "text/html": [
       "<div>\n",
       "<style scoped>\n",
       "    .dataframe tbody tr th:only-of-type {\n",
       "        vertical-align: middle;\n",
       "    }\n",
       "\n",
       "    .dataframe tbody tr th {\n",
       "        vertical-align: top;\n",
       "    }\n",
       "\n",
       "    .dataframe thead th {\n",
       "        text-align: right;\n",
       "    }\n",
       "</style>\n",
       "<table border=\"1\" class=\"dataframe\">\n",
       "  <thead>\n",
       "    <tr style=\"text-align: right;\">\n",
       "      <th></th>\n",
       "      <th>COLONNA_1</th>\n",
       "      <th>column_2</th>\n",
       "      <th>column_3</th>\n",
       "      <th>column_4</th>\n",
       "      <th>column_5</th>\n",
       "      <th>column_6</th>\n",
       "    </tr>\n",
       "  </thead>\n",
       "  <tbody>\n",
       "    <tr>\n",
       "      <th>nuovo_index</th>\n",
       "      <td>NaN</td>\n",
       "      <td>0.647682</td>\n",
       "      <td>0.031766</td>\n",
       "      <td>0.390485</td>\n",
       "      <td>0.004092</td>\n",
       "      <td>0.023134</td>\n",
       "    </tr>\n",
       "    <tr>\n",
       "      <th>2</th>\n",
       "      <td>0.504135</td>\n",
       "      <td>0.050744</td>\n",
       "      <td>0.139108</td>\n",
       "      <td>0.894855</td>\n",
       "      <td>0.194835</td>\n",
       "      <td>0.282797</td>\n",
       "    </tr>\n",
       "    <tr>\n",
       "      <th>3</th>\n",
       "      <td>0.787274</td>\n",
       "      <td>0.164304</td>\n",
       "      <td>0.940174</td>\n",
       "      <td>0.136572</td>\n",
       "      <td>0.414917</td>\n",
       "      <td>0.500771</td>\n",
       "    </tr>\n",
       "    <tr>\n",
       "      <th>4</th>\n",
       "      <td>0.861012</td>\n",
       "      <td>0.551957</td>\n",
       "      <td>0.749828</td>\n",
       "      <td>0.715491</td>\n",
       "      <td>0.453771</td>\n",
       "      <td>0.403453</td>\n",
       "    </tr>\n",
       "    <tr>\n",
       "      <th>5</th>\n",
       "      <td>0.633205</td>\n",
       "      <td>0.224036</td>\n",
       "      <td>0.695049</td>\n",
       "      <td>0.809480</td>\n",
       "      <td>0.528043</td>\n",
       "      <td>0.469931</td>\n",
       "    </tr>\n",
       "    <tr>\n",
       "      <th>6</th>\n",
       "      <td>0.798486</td>\n",
       "      <td>0.096073</td>\n",
       "      <td>0.727083</td>\n",
       "      <td>0.809944</td>\n",
       "      <td>0.264736</td>\n",
       "      <td>0.945147</td>\n",
       "    </tr>\n",
       "    <tr>\n",
       "      <th>7</th>\n",
       "      <td>0.313547</td>\n",
       "      <td>0.192160</td>\n",
       "      <td>0.075076</td>\n",
       "      <td>0.959145</td>\n",
       "      <td>0.590979</td>\n",
       "      <td>0.688038</td>\n",
       "    </tr>\n",
       "    <tr>\n",
       "      <th>8</th>\n",
       "      <td>0.829381</td>\n",
       "      <td>0.912156</td>\n",
       "      <td>0.409433</td>\n",
       "      <td>0.670318</td>\n",
       "      <td>0.823305</td>\n",
       "      <td>0.918405</td>\n",
       "    </tr>\n",
       "    <tr>\n",
       "      <th>9</th>\n",
       "      <td>0.255362</td>\n",
       "      <td>0.109674</td>\n",
       "      <td>0.403582</td>\n",
       "      <td>0.930156</td>\n",
       "      <td>0.157312</td>\n",
       "      <td>0.572863</td>\n",
       "    </tr>\n",
       "    <tr>\n",
       "      <th>10</th>\n",
       "      <td>0.209310</td>\n",
       "      <td>0.968352</td>\n",
       "      <td>0.979370</td>\n",
       "      <td>0.709929</td>\n",
       "      <td>0.620378</td>\n",
       "      <td>0.068132</td>\n",
       "    </tr>\n",
       "  </tbody>\n",
       "</table>\n",
       "</div>"
      ],
      "text/plain": [
       "             COLONNA_1  column_2  column_3  column_4  column_5  column_6\n",
       "nuovo_index        NaN  0.647682  0.031766  0.390485  0.004092  0.023134\n",
       "2             0.504135  0.050744  0.139108  0.894855  0.194835  0.282797\n",
       "3             0.787274  0.164304  0.940174  0.136572  0.414917  0.500771\n",
       "4             0.861012  0.551957  0.749828  0.715491  0.453771  0.403453\n",
       "5             0.633205  0.224036  0.695049  0.809480  0.528043  0.469931\n",
       "6             0.798486  0.096073  0.727083  0.809944  0.264736  0.945147\n",
       "7             0.313547  0.192160  0.075076  0.959145  0.590979  0.688038\n",
       "8             0.829381  0.912156  0.409433  0.670318  0.823305  0.918405\n",
       "9             0.255362  0.109674  0.403582  0.930156  0.157312  0.572863\n",
       "10            0.209310  0.968352  0.979370  0.709929  0.620378  0.068132"
      ]
     },
     "execution_count": 63,
     "metadata": {},
     "output_type": "execute_result"
    }
   ],
   "source": [
    "df1_copy.rename(index={1:'nuovo_index'}, columns={'column_1':'COLONNA_1'})"
   ]
  },
  {
   "cell_type": "code",
   "execution_count": 64,
   "id": "pretty-thanks",
   "metadata": {},
   "outputs": [
    {
     "data": {
      "text/html": [
       "<div>\n",
       "<style scoped>\n",
       "    .dataframe tbody tr th:only-of-type {\n",
       "        vertical-align: middle;\n",
       "    }\n",
       "\n",
       "    .dataframe tbody tr th {\n",
       "        vertical-align: top;\n",
       "    }\n",
       "\n",
       "    .dataframe thead th {\n",
       "        text-align: right;\n",
       "    }\n",
       "</style>\n",
       "<table border=\"1\" class=\"dataframe\">\n",
       "  <thead>\n",
       "    <tr style=\"text-align: right;\">\n",
       "      <th></th>\n",
       "      <th>index</th>\n",
       "      <th>column_1</th>\n",
       "      <th>column_2</th>\n",
       "      <th>column_3</th>\n",
       "      <th>column_4</th>\n",
       "      <th>column_5</th>\n",
       "      <th>column_6</th>\n",
       "    </tr>\n",
       "  </thead>\n",
       "  <tbody>\n",
       "    <tr>\n",
       "      <th>0</th>\n",
       "      <td>1</td>\n",
       "      <td>NaN</td>\n",
       "      <td>0.647682</td>\n",
       "      <td>0.031766</td>\n",
       "      <td>0.390485</td>\n",
       "      <td>0.004092</td>\n",
       "      <td>0.023134</td>\n",
       "    </tr>\n",
       "    <tr>\n",
       "      <th>1</th>\n",
       "      <td>2</td>\n",
       "      <td>0.504135</td>\n",
       "      <td>0.050744</td>\n",
       "      <td>0.139108</td>\n",
       "      <td>0.894855</td>\n",
       "      <td>0.194835</td>\n",
       "      <td>0.282797</td>\n",
       "    </tr>\n",
       "    <tr>\n",
       "      <th>2</th>\n",
       "      <td>3</td>\n",
       "      <td>0.787274</td>\n",
       "      <td>0.164304</td>\n",
       "      <td>0.940174</td>\n",
       "      <td>0.136572</td>\n",
       "      <td>0.414917</td>\n",
       "      <td>0.500771</td>\n",
       "    </tr>\n",
       "    <tr>\n",
       "      <th>3</th>\n",
       "      <td>4</td>\n",
       "      <td>0.861012</td>\n",
       "      <td>0.551957</td>\n",
       "      <td>0.749828</td>\n",
       "      <td>0.715491</td>\n",
       "      <td>0.453771</td>\n",
       "      <td>0.403453</td>\n",
       "    </tr>\n",
       "    <tr>\n",
       "      <th>4</th>\n",
       "      <td>5</td>\n",
       "      <td>0.633205</td>\n",
       "      <td>0.224036</td>\n",
       "      <td>0.695049</td>\n",
       "      <td>0.809480</td>\n",
       "      <td>0.528043</td>\n",
       "      <td>0.469931</td>\n",
       "    </tr>\n",
       "    <tr>\n",
       "      <th>5</th>\n",
       "      <td>6</td>\n",
       "      <td>0.798486</td>\n",
       "      <td>0.096073</td>\n",
       "      <td>0.727083</td>\n",
       "      <td>0.809944</td>\n",
       "      <td>0.264736</td>\n",
       "      <td>0.945147</td>\n",
       "    </tr>\n",
       "    <tr>\n",
       "      <th>6</th>\n",
       "      <td>7</td>\n",
       "      <td>0.313547</td>\n",
       "      <td>0.192160</td>\n",
       "      <td>0.075076</td>\n",
       "      <td>0.959145</td>\n",
       "      <td>0.590979</td>\n",
       "      <td>0.688038</td>\n",
       "    </tr>\n",
       "    <tr>\n",
       "      <th>7</th>\n",
       "      <td>8</td>\n",
       "      <td>0.829381</td>\n",
       "      <td>0.912156</td>\n",
       "      <td>0.409433</td>\n",
       "      <td>0.670318</td>\n",
       "      <td>0.823305</td>\n",
       "      <td>0.918405</td>\n",
       "    </tr>\n",
       "    <tr>\n",
       "      <th>8</th>\n",
       "      <td>9</td>\n",
       "      <td>0.255362</td>\n",
       "      <td>0.109674</td>\n",
       "      <td>0.403582</td>\n",
       "      <td>0.930156</td>\n",
       "      <td>0.157312</td>\n",
       "      <td>0.572863</td>\n",
       "    </tr>\n",
       "    <tr>\n",
       "      <th>9</th>\n",
       "      <td>10</td>\n",
       "      <td>0.209310</td>\n",
       "      <td>0.968352</td>\n",
       "      <td>0.979370</td>\n",
       "      <td>0.709929</td>\n",
       "      <td>0.620378</td>\n",
       "      <td>0.068132</td>\n",
       "    </tr>\n",
       "  </tbody>\n",
       "</table>\n",
       "</div>"
      ],
      "text/plain": [
       "   index  column_1  column_2  column_3  column_4  column_5  column_6\n",
       "0      1       NaN  0.647682  0.031766  0.390485  0.004092  0.023134\n",
       "1      2  0.504135  0.050744  0.139108  0.894855  0.194835  0.282797\n",
       "2      3  0.787274  0.164304  0.940174  0.136572  0.414917  0.500771\n",
       "3      4  0.861012  0.551957  0.749828  0.715491  0.453771  0.403453\n",
       "4      5  0.633205  0.224036  0.695049  0.809480  0.528043  0.469931\n",
       "5      6  0.798486  0.096073  0.727083  0.809944  0.264736  0.945147\n",
       "6      7  0.313547  0.192160  0.075076  0.959145  0.590979  0.688038\n",
       "7      8  0.829381  0.912156  0.409433  0.670318  0.823305  0.918405\n",
       "8      9  0.255362  0.109674  0.403582  0.930156  0.157312  0.572863\n",
       "9     10  0.209310  0.968352  0.979370  0.709929  0.620378  0.068132"
      ]
     },
     "execution_count": 64,
     "metadata": {},
     "output_type": "execute_result"
    }
   ],
   "source": [
    "df1_copy.reset_index()"
   ]
  },
  {
   "cell_type": "code",
   "execution_count": 65,
   "id": "worthy-break",
   "metadata": {},
   "outputs": [
    {
     "data": {
      "text/html": [
       "<div>\n",
       "<style scoped>\n",
       "    .dataframe tbody tr th:only-of-type {\n",
       "        vertical-align: middle;\n",
       "    }\n",
       "\n",
       "    .dataframe tbody tr th {\n",
       "        vertical-align: top;\n",
       "    }\n",
       "\n",
       "    .dataframe thead th {\n",
       "        text-align: right;\n",
       "    }\n",
       "</style>\n",
       "<table border=\"1\" class=\"dataframe\">\n",
       "  <thead>\n",
       "    <tr style=\"text-align: right;\">\n",
       "      <th></th>\n",
       "      <th>column_1</th>\n",
       "      <th>column_2</th>\n",
       "      <th>column_3</th>\n",
       "      <th>column_4</th>\n",
       "      <th>column_5</th>\n",
       "      <th>column_6</th>\n",
       "    </tr>\n",
       "  </thead>\n",
       "  <tbody>\n",
       "    <tr>\n",
       "      <th>10</th>\n",
       "      <td>0.209310</td>\n",
       "      <td>0.968352</td>\n",
       "      <td>0.979370</td>\n",
       "      <td>0.709929</td>\n",
       "      <td>0.620378</td>\n",
       "      <td>0.068132</td>\n",
       "    </tr>\n",
       "    <tr>\n",
       "      <th>9</th>\n",
       "      <td>0.255362</td>\n",
       "      <td>0.109674</td>\n",
       "      <td>0.403582</td>\n",
       "      <td>0.930156</td>\n",
       "      <td>0.157312</td>\n",
       "      <td>0.572863</td>\n",
       "    </tr>\n",
       "    <tr>\n",
       "      <th>7</th>\n",
       "      <td>0.313547</td>\n",
       "      <td>0.192160</td>\n",
       "      <td>0.075076</td>\n",
       "      <td>0.959145</td>\n",
       "      <td>0.590979</td>\n",
       "      <td>0.688038</td>\n",
       "    </tr>\n",
       "    <tr>\n",
       "      <th>2</th>\n",
       "      <td>0.504135</td>\n",
       "      <td>0.050744</td>\n",
       "      <td>0.139108</td>\n",
       "      <td>0.894855</td>\n",
       "      <td>0.194835</td>\n",
       "      <td>0.282797</td>\n",
       "    </tr>\n",
       "    <tr>\n",
       "      <th>5</th>\n",
       "      <td>0.633205</td>\n",
       "      <td>0.224036</td>\n",
       "      <td>0.695049</td>\n",
       "      <td>0.809480</td>\n",
       "      <td>0.528043</td>\n",
       "      <td>0.469931</td>\n",
       "    </tr>\n",
       "    <tr>\n",
       "      <th>3</th>\n",
       "      <td>0.787274</td>\n",
       "      <td>0.164304</td>\n",
       "      <td>0.940174</td>\n",
       "      <td>0.136572</td>\n",
       "      <td>0.414917</td>\n",
       "      <td>0.500771</td>\n",
       "    </tr>\n",
       "    <tr>\n",
       "      <th>6</th>\n",
       "      <td>0.798486</td>\n",
       "      <td>0.096073</td>\n",
       "      <td>0.727083</td>\n",
       "      <td>0.809944</td>\n",
       "      <td>0.264736</td>\n",
       "      <td>0.945147</td>\n",
       "    </tr>\n",
       "    <tr>\n",
       "      <th>8</th>\n",
       "      <td>0.829381</td>\n",
       "      <td>0.912156</td>\n",
       "      <td>0.409433</td>\n",
       "      <td>0.670318</td>\n",
       "      <td>0.823305</td>\n",
       "      <td>0.918405</td>\n",
       "    </tr>\n",
       "    <tr>\n",
       "      <th>4</th>\n",
       "      <td>0.861012</td>\n",
       "      <td>0.551957</td>\n",
       "      <td>0.749828</td>\n",
       "      <td>0.715491</td>\n",
       "      <td>0.453771</td>\n",
       "      <td>0.403453</td>\n",
       "    </tr>\n",
       "    <tr>\n",
       "      <th>1</th>\n",
       "      <td>NaN</td>\n",
       "      <td>0.647682</td>\n",
       "      <td>0.031766</td>\n",
       "      <td>0.390485</td>\n",
       "      <td>0.004092</td>\n",
       "      <td>0.023134</td>\n",
       "    </tr>\n",
       "  </tbody>\n",
       "</table>\n",
       "</div>"
      ],
      "text/plain": [
       "    column_1  column_2  column_3  column_4  column_5  column_6\n",
       "10  0.209310  0.968352  0.979370  0.709929  0.620378  0.068132\n",
       "9   0.255362  0.109674  0.403582  0.930156  0.157312  0.572863\n",
       "7   0.313547  0.192160  0.075076  0.959145  0.590979  0.688038\n",
       "2   0.504135  0.050744  0.139108  0.894855  0.194835  0.282797\n",
       "5   0.633205  0.224036  0.695049  0.809480  0.528043  0.469931\n",
       "3   0.787274  0.164304  0.940174  0.136572  0.414917  0.500771\n",
       "6   0.798486  0.096073  0.727083  0.809944  0.264736  0.945147\n",
       "8   0.829381  0.912156  0.409433  0.670318  0.823305  0.918405\n",
       "4   0.861012  0.551957  0.749828  0.715491  0.453771  0.403453\n",
       "1        NaN  0.647682  0.031766  0.390485  0.004092  0.023134"
      ]
     },
     "execution_count": 65,
     "metadata": {},
     "output_type": "execute_result"
    }
   ],
   "source": [
    "df1_copy.sort_values('column_1')"
   ]
  },
  {
   "cell_type": "markdown",
   "id": "surrounded-manufacturer",
   "metadata": {},
   "source": [
    "(Notare il NaN messo in fondo; per maggiori informazioni, guardare la documentazione ufficiale)"
   ]
  },
  {
   "cell_type": "markdown",
   "id": "devoted-movement",
   "metadata": {},
   "source": [
    "### Exportation Methods"
   ]
  },
  {
   "cell_type": "code",
   "execution_count": 66,
   "id": "generic-employee",
   "metadata": {},
   "outputs": [],
   "source": [
    "df1.to_csv('df1.csv', columns=['column_1', 'column_5', 'column_2'], index_label='ID')"
   ]
  },
  {
   "cell_type": "code",
   "execution_count": 67,
   "id": "destroyed-conjunction",
   "metadata": {},
   "outputs": [],
   "source": [
    "df1.to_pickle('df1.pkl')"
   ]
  },
  {
   "cell_type": "markdown",
   "id": "registered-shannon",
   "metadata": {},
   "source": [
    "## Loading a DataFrame"
   ]
  },
  {
   "cell_type": "code",
   "execution_count": 68,
   "id": "exterior-helicopter",
   "metadata": {},
   "outputs": [
    {
     "data": {
      "text/html": [
       "<div>\n",
       "<style scoped>\n",
       "    .dataframe tbody tr th:only-of-type {\n",
       "        vertical-align: middle;\n",
       "    }\n",
       "\n",
       "    .dataframe tbody tr th {\n",
       "        vertical-align: top;\n",
       "    }\n",
       "\n",
       "    .dataframe thead th {\n",
       "        text-align: right;\n",
       "    }\n",
       "</style>\n",
       "<table border=\"1\" class=\"dataframe\">\n",
       "  <thead>\n",
       "    <tr style=\"text-align: right;\">\n",
       "      <th></th>\n",
       "      <th>ID</th>\n",
       "      <th>column_1</th>\n",
       "      <th>column_5</th>\n",
       "      <th>column_2</th>\n",
       "    </tr>\n",
       "  </thead>\n",
       "  <tbody>\n",
       "    <tr>\n",
       "      <th>0</th>\n",
       "      <td>1</td>\n",
       "      <td>10.000000</td>\n",
       "      <td>0.004092</td>\n",
       "      <td>0.647682</td>\n",
       "    </tr>\n",
       "    <tr>\n",
       "      <th>1</th>\n",
       "      <td>2</td>\n",
       "      <td>0.504135</td>\n",
       "      <td>0.194835</td>\n",
       "      <td>0.050744</td>\n",
       "    </tr>\n",
       "    <tr>\n",
       "      <th>2</th>\n",
       "      <td>3</td>\n",
       "      <td>0.787274</td>\n",
       "      <td>0.414917</td>\n",
       "      <td>0.164304</td>\n",
       "    </tr>\n",
       "    <tr>\n",
       "      <th>3</th>\n",
       "      <td>4</td>\n",
       "      <td>0.861012</td>\n",
       "      <td>0.453771</td>\n",
       "      <td>0.551957</td>\n",
       "    </tr>\n",
       "    <tr>\n",
       "      <th>4</th>\n",
       "      <td>5</td>\n",
       "      <td>0.633205</td>\n",
       "      <td>0.528043</td>\n",
       "      <td>0.224036</td>\n",
       "    </tr>\n",
       "    <tr>\n",
       "      <th>5</th>\n",
       "      <td>6</td>\n",
       "      <td>0.798486</td>\n",
       "      <td>0.264736</td>\n",
       "      <td>0.096073</td>\n",
       "    </tr>\n",
       "    <tr>\n",
       "      <th>6</th>\n",
       "      <td>7</td>\n",
       "      <td>0.313547</td>\n",
       "      <td>0.590979</td>\n",
       "      <td>0.192160</td>\n",
       "    </tr>\n",
       "    <tr>\n",
       "      <th>7</th>\n",
       "      <td>8</td>\n",
       "      <td>0.829381</td>\n",
       "      <td>0.823305</td>\n",
       "      <td>0.912156</td>\n",
       "    </tr>\n",
       "    <tr>\n",
       "      <th>8</th>\n",
       "      <td>9</td>\n",
       "      <td>0.255362</td>\n",
       "      <td>0.157312</td>\n",
       "      <td>0.109674</td>\n",
       "    </tr>\n",
       "    <tr>\n",
       "      <th>9</th>\n",
       "      <td>10</td>\n",
       "      <td>0.209310</td>\n",
       "      <td>0.620378</td>\n",
       "      <td>0.968352</td>\n",
       "    </tr>\n",
       "  </tbody>\n",
       "</table>\n",
       "</div>"
      ],
      "text/plain": [
       "   ID   column_1  column_5  column_2\n",
       "0   1  10.000000  0.004092  0.647682\n",
       "1   2   0.504135  0.194835  0.050744\n",
       "2   3   0.787274  0.414917  0.164304\n",
       "3   4   0.861012  0.453771  0.551957\n",
       "4   5   0.633205  0.528043  0.224036\n",
       "5   6   0.798486  0.264736  0.096073\n",
       "6   7   0.313547  0.590979  0.192160\n",
       "7   8   0.829381  0.823305  0.912156\n",
       "8   9   0.255362  0.157312  0.109674\n",
       "9  10   0.209310  0.620378  0.968352"
      ]
     },
     "execution_count": 68,
     "metadata": {},
     "output_type": "execute_result"
    }
   ],
   "source": [
    "pd.read_csv('df1.csv')"
   ]
  },
  {
   "cell_type": "code",
   "execution_count": 69,
   "id": "steady-bridal",
   "metadata": {},
   "outputs": [
    {
     "data": {
      "text/html": [
       "<div>\n",
       "<style scoped>\n",
       "    .dataframe tbody tr th:only-of-type {\n",
       "        vertical-align: middle;\n",
       "    }\n",
       "\n",
       "    .dataframe tbody tr th {\n",
       "        vertical-align: top;\n",
       "    }\n",
       "\n",
       "    .dataframe thead th {\n",
       "        text-align: right;\n",
       "    }\n",
       "</style>\n",
       "<table border=\"1\" class=\"dataframe\">\n",
       "  <thead>\n",
       "    <tr style=\"text-align: right;\">\n",
       "      <th></th>\n",
       "      <th>column_1</th>\n",
       "      <th>column_2</th>\n",
       "    </tr>\n",
       "    <tr>\n",
       "      <th>ID</th>\n",
       "      <th></th>\n",
       "      <th></th>\n",
       "    </tr>\n",
       "  </thead>\n",
       "  <tbody>\n",
       "    <tr>\n",
       "      <th>1</th>\n",
       "      <td>10.000000</td>\n",
       "      <td>0.647682</td>\n",
       "    </tr>\n",
       "    <tr>\n",
       "      <th>2</th>\n",
       "      <td>0.504135</td>\n",
       "      <td>0.050744</td>\n",
       "    </tr>\n",
       "    <tr>\n",
       "      <th>3</th>\n",
       "      <td>0.787274</td>\n",
       "      <td>0.164304</td>\n",
       "    </tr>\n",
       "    <tr>\n",
       "      <th>4</th>\n",
       "      <td>0.861012</td>\n",
       "      <td>0.551957</td>\n",
       "    </tr>\n",
       "    <tr>\n",
       "      <th>5</th>\n",
       "      <td>0.633205</td>\n",
       "      <td>0.224036</td>\n",
       "    </tr>\n",
       "    <tr>\n",
       "      <th>6</th>\n",
       "      <td>0.798486</td>\n",
       "      <td>0.096073</td>\n",
       "    </tr>\n",
       "    <tr>\n",
       "      <th>7</th>\n",
       "      <td>0.313547</td>\n",
       "      <td>0.192160</td>\n",
       "    </tr>\n",
       "    <tr>\n",
       "      <th>8</th>\n",
       "      <td>0.829381</td>\n",
       "      <td>0.912156</td>\n",
       "    </tr>\n",
       "    <tr>\n",
       "      <th>9</th>\n",
       "      <td>0.255362</td>\n",
       "      <td>0.109674</td>\n",
       "    </tr>\n",
       "    <tr>\n",
       "      <th>10</th>\n",
       "      <td>0.209310</td>\n",
       "      <td>0.968352</td>\n",
       "    </tr>\n",
       "  </tbody>\n",
       "</table>\n",
       "</div>"
      ],
      "text/plain": [
       "     column_1  column_2\n",
       "ID                     \n",
       "1   10.000000  0.647682\n",
       "2    0.504135  0.050744\n",
       "3    0.787274  0.164304\n",
       "4    0.861012  0.551957\n",
       "5    0.633205  0.224036\n",
       "6    0.798486  0.096073\n",
       "7    0.313547  0.192160\n",
       "8    0.829381  0.912156\n",
       "9    0.255362  0.109674\n",
       "10   0.209310  0.968352"
      ]
     },
     "execution_count": 69,
     "metadata": {},
     "output_type": "execute_result"
    }
   ],
   "source": [
    "pd.read_csv('df1.csv', usecols=['ID', 'column_1', 'column_2'], index_col='ID')"
   ]
  },
  {
   "cell_type": "code",
   "execution_count": 70,
   "id": "occupied-catalog",
   "metadata": {},
   "outputs": [
    {
     "data": {
      "text/html": [
       "<div>\n",
       "<style scoped>\n",
       "    .dataframe tbody tr th:only-of-type {\n",
       "        vertical-align: middle;\n",
       "    }\n",
       "\n",
       "    .dataframe tbody tr th {\n",
       "        vertical-align: top;\n",
       "    }\n",
       "\n",
       "    .dataframe thead th {\n",
       "        text-align: right;\n",
       "    }\n",
       "</style>\n",
       "<table border=\"1\" class=\"dataframe\">\n",
       "  <thead>\n",
       "    <tr style=\"text-align: right;\">\n",
       "      <th></th>\n",
       "      <th>column_1</th>\n",
       "      <th>column_2</th>\n",
       "      <th>column_3</th>\n",
       "      <th>column_4</th>\n",
       "      <th>column_5</th>\n",
       "      <th>column_6</th>\n",
       "    </tr>\n",
       "  </thead>\n",
       "  <tbody>\n",
       "    <tr>\n",
       "      <th>1</th>\n",
       "      <td>10.000000</td>\n",
       "      <td>0.647682</td>\n",
       "      <td>0.031766</td>\n",
       "      <td>0.390485</td>\n",
       "      <td>0.004092</td>\n",
       "      <td>0.023134</td>\n",
       "    </tr>\n",
       "    <tr>\n",
       "      <th>2</th>\n",
       "      <td>0.504135</td>\n",
       "      <td>0.050744</td>\n",
       "      <td>0.139108</td>\n",
       "      <td>0.894855</td>\n",
       "      <td>0.194835</td>\n",
       "      <td>0.282797</td>\n",
       "    </tr>\n",
       "    <tr>\n",
       "      <th>3</th>\n",
       "      <td>0.787274</td>\n",
       "      <td>0.164304</td>\n",
       "      <td>0.940174</td>\n",
       "      <td>0.136572</td>\n",
       "      <td>0.414917</td>\n",
       "      <td>0.500771</td>\n",
       "    </tr>\n",
       "    <tr>\n",
       "      <th>4</th>\n",
       "      <td>0.861012</td>\n",
       "      <td>0.551957</td>\n",
       "      <td>0.749828</td>\n",
       "      <td>0.715491</td>\n",
       "      <td>0.453771</td>\n",
       "      <td>0.403453</td>\n",
       "    </tr>\n",
       "    <tr>\n",
       "      <th>5</th>\n",
       "      <td>0.633205</td>\n",
       "      <td>0.224036</td>\n",
       "      <td>0.695049</td>\n",
       "      <td>0.809480</td>\n",
       "      <td>0.528043</td>\n",
       "      <td>0.469931</td>\n",
       "    </tr>\n",
       "    <tr>\n",
       "      <th>6</th>\n",
       "      <td>0.798486</td>\n",
       "      <td>0.096073</td>\n",
       "      <td>0.727083</td>\n",
       "      <td>0.809944</td>\n",
       "      <td>0.264736</td>\n",
       "      <td>0.945147</td>\n",
       "    </tr>\n",
       "    <tr>\n",
       "      <th>7</th>\n",
       "      <td>0.313547</td>\n",
       "      <td>0.192160</td>\n",
       "      <td>0.075076</td>\n",
       "      <td>0.959145</td>\n",
       "      <td>0.590979</td>\n",
       "      <td>0.688038</td>\n",
       "    </tr>\n",
       "    <tr>\n",
       "      <th>8</th>\n",
       "      <td>0.829381</td>\n",
       "      <td>0.912156</td>\n",
       "      <td>0.409433</td>\n",
       "      <td>0.670318</td>\n",
       "      <td>0.823305</td>\n",
       "      <td>0.918405</td>\n",
       "    </tr>\n",
       "    <tr>\n",
       "      <th>9</th>\n",
       "      <td>0.255362</td>\n",
       "      <td>0.109674</td>\n",
       "      <td>0.403582</td>\n",
       "      <td>0.930156</td>\n",
       "      <td>0.157312</td>\n",
       "      <td>0.572863</td>\n",
       "    </tr>\n",
       "    <tr>\n",
       "      <th>10</th>\n",
       "      <td>0.209310</td>\n",
       "      <td>0.968352</td>\n",
       "      <td>0.979370</td>\n",
       "      <td>0.709929</td>\n",
       "      <td>0.620378</td>\n",
       "      <td>0.068132</td>\n",
       "    </tr>\n",
       "  </tbody>\n",
       "</table>\n",
       "</div>"
      ],
      "text/plain": [
       "     column_1  column_2  column_3  column_4  column_5  column_6\n",
       "1   10.000000  0.647682  0.031766  0.390485  0.004092  0.023134\n",
       "2    0.504135  0.050744  0.139108  0.894855  0.194835  0.282797\n",
       "3    0.787274  0.164304  0.940174  0.136572  0.414917  0.500771\n",
       "4    0.861012  0.551957  0.749828  0.715491  0.453771  0.403453\n",
       "5    0.633205  0.224036  0.695049  0.809480  0.528043  0.469931\n",
       "6    0.798486  0.096073  0.727083  0.809944  0.264736  0.945147\n",
       "7    0.313547  0.192160  0.075076  0.959145  0.590979  0.688038\n",
       "8    0.829381  0.912156  0.409433  0.670318  0.823305  0.918405\n",
       "9    0.255362  0.109674  0.403582  0.930156  0.157312  0.572863\n",
       "10   0.209310  0.968352  0.979370  0.709929  0.620378  0.068132"
      ]
     },
     "execution_count": 70,
     "metadata": {},
     "output_type": "execute_result"
    }
   ],
   "source": [
    "pd.read_pickle('df1.pkl')"
   ]
  },
  {
   "cell_type": "markdown",
   "id": "emerging-barcelona",
   "metadata": {},
   "source": [
    "## Concatenation of DataFrames"
   ]
  },
  {
   "cell_type": "code",
   "execution_count": 71,
   "id": "revolutionary-medication",
   "metadata": {},
   "outputs": [
    {
     "data": {
      "text/html": [
       "<div>\n",
       "<style scoped>\n",
       "    .dataframe tbody tr th:only-of-type {\n",
       "        vertical-align: middle;\n",
       "    }\n",
       "\n",
       "    .dataframe tbody tr th {\n",
       "        vertical-align: top;\n",
       "    }\n",
       "\n",
       "    .dataframe thead th {\n",
       "        text-align: right;\n",
       "    }\n",
       "</style>\n",
       "<table border=\"1\" class=\"dataframe\">\n",
       "  <thead>\n",
       "    <tr style=\"text-align: right;\">\n",
       "      <th></th>\n",
       "      <th>column_1</th>\n",
       "      <th>column_2</th>\n",
       "      <th>column_3</th>\n",
       "      <th>column_4</th>\n",
       "      <th>column_5</th>\n",
       "      <th>column_6</th>\n",
       "      <th>index</th>\n",
       "      <th>column_1</th>\n",
       "      <th>column_2</th>\n",
       "      <th>column_3</th>\n",
       "      <th>column_4</th>\n",
       "      <th>column_5</th>\n",
       "      <th>column_6</th>\n",
       "    </tr>\n",
       "  </thead>\n",
       "  <tbody>\n",
       "    <tr>\n",
       "      <th>1</th>\n",
       "      <td>10.000000</td>\n",
       "      <td>0.647682</td>\n",
       "      <td>0.031766</td>\n",
       "      <td>0.390485</td>\n",
       "      <td>0.004092</td>\n",
       "      <td>0.023134</td>\n",
       "      <td>2.0</td>\n",
       "      <td>0.504135</td>\n",
       "      <td>0.050744</td>\n",
       "      <td>0.139108</td>\n",
       "      <td>0.894855</td>\n",
       "      <td>0.194835</td>\n",
       "      <td>0.282797</td>\n",
       "    </tr>\n",
       "    <tr>\n",
       "      <th>2</th>\n",
       "      <td>0.504135</td>\n",
       "      <td>0.050744</td>\n",
       "      <td>0.139108</td>\n",
       "      <td>0.894855</td>\n",
       "      <td>0.194835</td>\n",
       "      <td>0.282797</td>\n",
       "      <td>3.0</td>\n",
       "      <td>0.787274</td>\n",
       "      <td>0.164304</td>\n",
       "      <td>0.940174</td>\n",
       "      <td>0.136572</td>\n",
       "      <td>0.414917</td>\n",
       "      <td>0.500771</td>\n",
       "    </tr>\n",
       "    <tr>\n",
       "      <th>3</th>\n",
       "      <td>0.787274</td>\n",
       "      <td>0.164304</td>\n",
       "      <td>0.940174</td>\n",
       "      <td>0.136572</td>\n",
       "      <td>0.414917</td>\n",
       "      <td>0.500771</td>\n",
       "      <td>4.0</td>\n",
       "      <td>0.861012</td>\n",
       "      <td>0.551957</td>\n",
       "      <td>0.749828</td>\n",
       "      <td>0.715491</td>\n",
       "      <td>0.453771</td>\n",
       "      <td>0.403453</td>\n",
       "    </tr>\n",
       "    <tr>\n",
       "      <th>4</th>\n",
       "      <td>0.861012</td>\n",
       "      <td>0.551957</td>\n",
       "      <td>0.749828</td>\n",
       "      <td>0.715491</td>\n",
       "      <td>0.453771</td>\n",
       "      <td>0.403453</td>\n",
       "      <td>5.0</td>\n",
       "      <td>0.633205</td>\n",
       "      <td>0.224036</td>\n",
       "      <td>0.695049</td>\n",
       "      <td>0.809480</td>\n",
       "      <td>0.528043</td>\n",
       "      <td>0.469931</td>\n",
       "    </tr>\n",
       "    <tr>\n",
       "      <th>5</th>\n",
       "      <td>0.633205</td>\n",
       "      <td>0.224036</td>\n",
       "      <td>0.695049</td>\n",
       "      <td>0.809480</td>\n",
       "      <td>0.528043</td>\n",
       "      <td>0.469931</td>\n",
       "      <td>6.0</td>\n",
       "      <td>0.798486</td>\n",
       "      <td>0.096073</td>\n",
       "      <td>0.727083</td>\n",
       "      <td>0.809944</td>\n",
       "      <td>0.264736</td>\n",
       "      <td>0.945147</td>\n",
       "    </tr>\n",
       "    <tr>\n",
       "      <th>6</th>\n",
       "      <td>0.798486</td>\n",
       "      <td>0.096073</td>\n",
       "      <td>0.727083</td>\n",
       "      <td>0.809944</td>\n",
       "      <td>0.264736</td>\n",
       "      <td>0.945147</td>\n",
       "      <td>7.0</td>\n",
       "      <td>0.313547</td>\n",
       "      <td>0.192160</td>\n",
       "      <td>0.075076</td>\n",
       "      <td>0.959145</td>\n",
       "      <td>0.590979</td>\n",
       "      <td>0.688038</td>\n",
       "    </tr>\n",
       "    <tr>\n",
       "      <th>7</th>\n",
       "      <td>0.313547</td>\n",
       "      <td>0.192160</td>\n",
       "      <td>0.075076</td>\n",
       "      <td>0.959145</td>\n",
       "      <td>0.590979</td>\n",
       "      <td>0.688038</td>\n",
       "      <td>8.0</td>\n",
       "      <td>0.829381</td>\n",
       "      <td>0.912156</td>\n",
       "      <td>0.409433</td>\n",
       "      <td>0.670318</td>\n",
       "      <td>0.823305</td>\n",
       "      <td>0.918405</td>\n",
       "    </tr>\n",
       "    <tr>\n",
       "      <th>8</th>\n",
       "      <td>0.829381</td>\n",
       "      <td>0.912156</td>\n",
       "      <td>0.409433</td>\n",
       "      <td>0.670318</td>\n",
       "      <td>0.823305</td>\n",
       "      <td>0.918405</td>\n",
       "      <td>9.0</td>\n",
       "      <td>0.255362</td>\n",
       "      <td>0.109674</td>\n",
       "      <td>0.403582</td>\n",
       "      <td>0.930156</td>\n",
       "      <td>0.157312</td>\n",
       "      <td>0.572863</td>\n",
       "    </tr>\n",
       "    <tr>\n",
       "      <th>9</th>\n",
       "      <td>0.255362</td>\n",
       "      <td>0.109674</td>\n",
       "      <td>0.403582</td>\n",
       "      <td>0.930156</td>\n",
       "      <td>0.157312</td>\n",
       "      <td>0.572863</td>\n",
       "      <td>10.0</td>\n",
       "      <td>0.209310</td>\n",
       "      <td>0.968352</td>\n",
       "      <td>0.979370</td>\n",
       "      <td>0.709929</td>\n",
       "      <td>0.620378</td>\n",
       "      <td>0.068132</td>\n",
       "    </tr>\n",
       "    <tr>\n",
       "      <th>10</th>\n",
       "      <td>0.209310</td>\n",
       "      <td>0.968352</td>\n",
       "      <td>0.979370</td>\n",
       "      <td>0.709929</td>\n",
       "      <td>0.620378</td>\n",
       "      <td>0.068132</td>\n",
       "      <td>NaN</td>\n",
       "      <td>NaN</td>\n",
       "      <td>NaN</td>\n",
       "      <td>NaN</td>\n",
       "      <td>NaN</td>\n",
       "      <td>NaN</td>\n",
       "      <td>NaN</td>\n",
       "    </tr>\n",
       "    <tr>\n",
       "      <th>0</th>\n",
       "      <td>NaN</td>\n",
       "      <td>NaN</td>\n",
       "      <td>NaN</td>\n",
       "      <td>NaN</td>\n",
       "      <td>NaN</td>\n",
       "      <td>NaN</td>\n",
       "      <td>1.0</td>\n",
       "      <td>10.000000</td>\n",
       "      <td>0.647682</td>\n",
       "      <td>0.031766</td>\n",
       "      <td>0.390485</td>\n",
       "      <td>0.004092</td>\n",
       "      <td>0.023134</td>\n",
       "    </tr>\n",
       "  </tbody>\n",
       "</table>\n",
       "</div>"
      ],
      "text/plain": [
       "     column_1  column_2  column_3  column_4  column_5  column_6  index  \\\n",
       "1   10.000000  0.647682  0.031766  0.390485  0.004092  0.023134    2.0   \n",
       "2    0.504135  0.050744  0.139108  0.894855  0.194835  0.282797    3.0   \n",
       "3    0.787274  0.164304  0.940174  0.136572  0.414917  0.500771    4.0   \n",
       "4    0.861012  0.551957  0.749828  0.715491  0.453771  0.403453    5.0   \n",
       "5    0.633205  0.224036  0.695049  0.809480  0.528043  0.469931    6.0   \n",
       "6    0.798486  0.096073  0.727083  0.809944  0.264736  0.945147    7.0   \n",
       "7    0.313547  0.192160  0.075076  0.959145  0.590979  0.688038    8.0   \n",
       "8    0.829381  0.912156  0.409433  0.670318  0.823305  0.918405    9.0   \n",
       "9    0.255362  0.109674  0.403582  0.930156  0.157312  0.572863   10.0   \n",
       "10   0.209310  0.968352  0.979370  0.709929  0.620378  0.068132    NaN   \n",
       "0         NaN       NaN       NaN       NaN       NaN       NaN    1.0   \n",
       "\n",
       "     column_1  column_2  column_3  column_4  column_5  column_6  \n",
       "1    0.504135  0.050744  0.139108  0.894855  0.194835  0.282797  \n",
       "2    0.787274  0.164304  0.940174  0.136572  0.414917  0.500771  \n",
       "3    0.861012  0.551957  0.749828  0.715491  0.453771  0.403453  \n",
       "4    0.633205  0.224036  0.695049  0.809480  0.528043  0.469931  \n",
       "5    0.798486  0.096073  0.727083  0.809944  0.264736  0.945147  \n",
       "6    0.313547  0.192160  0.075076  0.959145  0.590979  0.688038  \n",
       "7    0.829381  0.912156  0.409433  0.670318  0.823305  0.918405  \n",
       "8    0.255362  0.109674  0.403582  0.930156  0.157312  0.572863  \n",
       "9    0.209310  0.968352  0.979370  0.709929  0.620378  0.068132  \n",
       "10        NaN       NaN       NaN       NaN       NaN       NaN  \n",
       "0   10.000000  0.647682  0.031766  0.390485  0.004092  0.023134  "
      ]
     },
     "execution_count": 71,
     "metadata": {},
     "output_type": "execute_result"
    }
   ],
   "source": [
    "pd.concat([df1, df1.reset_index()], axis=1)"
   ]
  },
  {
   "cell_type": "code",
   "execution_count": null,
   "id": "computational-fairy",
   "metadata": {},
   "outputs": [],
   "source": []
  }
 ],
 "metadata": {
  "kernelspec": {
   "display_name": ".venv",
   "language": "python",
   "name": "python3"
  },
  "language_info": {
   "codemirror_mode": {
    "name": "ipython",
    "version": 3
   },
   "file_extension": ".py",
   "mimetype": "text/x-python",
   "name": "python",
   "nbconvert_exporter": "python",
   "pygments_lexer": "ipython3",
   "version": "3.11.9"
  }
 },
 "nbformat": 4,
 "nbformat_minor": 5
}
