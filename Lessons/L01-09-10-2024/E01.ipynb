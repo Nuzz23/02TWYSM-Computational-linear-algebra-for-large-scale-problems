{
 "cells": [
  {
   "cell_type": "markdown",
   "metadata": {},
   "source": [
    "# Numpy introduction\n",
    "\n",
    "Dimension:\n",
    "if i have a matrix A $\\in R^{3,3}$ the matrix has a mathematical dimension of $3\\cdot3$ whilst the numpy dimension is 2 because it is a two dimension array. Ex a matrix B $\\in R^{3, 4, 2}$ has a mathematical dimension of $3\\cdot4\\cdot2$ whilst the numpy dimension is 3 due to the three dimension\n",
    "\n",
    "- object : the thing that i want to transform into an array\n",
    "- neip : the dimension of the data to be memorized\n",
    "- dtype : data type (unique to numpy ex np.float32(), np.float64(), np.int16())\n",
    "\n",
    "### Array dim\n",
    "- 0D array: scalar\n",
    "- 1D array: vectors\n",
    "- 2D array: matrix\n",
    "- 3D array: 1D array of 2D array\n",
    "arrays' dimension must be well defined due to the product between arrays \n"
   ]
  },
  {
   "cell_type": "code",
   "execution_count": 18,
   "metadata": {},
   "outputs": [
    {
     "name": "stdout",
     "output_type": "stream",
     "text": [
      "----------------------\n"
     ]
    },
    {
     "data": {
      "text/plain": [
       "array([[0, 2, 4, 6, 8]])"
      ]
     },
     "metadata": {},
     "output_type": "display_data"
    },
    {
     "data": {
      "text/plain": [
       "array([0, 2, 4, 6, 8])"
      ]
     },
     "metadata": {},
     "output_type": "display_data"
    },
    {
     "name": "stdout",
     "output_type": "stream",
     "text": [
      "[0. 0. 0. 0. 0.]\n",
      "[[0. 0. 0. 0.]\n",
      " [0. 0. 0. 0.]\n",
      " [0. 0. 0. 0.]\n",
      " [0. 0. 0. 0.]\n",
      " [0. 0. 0. 0.]]\n",
      "[[[1. 1.]\n",
      "  [1. 1.]\n",
      "  [1. 1.]]\n",
      "\n",
      " [[1. 1.]\n",
      "  [1. 1.]\n",
      "  [1. 1.]]]\n",
      "(3, 4, 5)\n",
      "[[1. 1.]\n",
      " [1. 1.]\n",
      " [1. 1.]]\n"
     ]
    },
    {
     "ename": "TypeError",
     "evalue": "_sum() got an unexpected keyword argument 'row'",
     "output_type": "error",
     "traceback": [
      "\u001b[1;31m---------------------------------------------------------------------------\u001b[0m",
      "\u001b[1;31mTypeError\u001b[0m                                 Traceback (most recent call last)",
      "Cell \u001b[1;32mIn[18], line 24\u001b[0m\n\u001b[0;32m     21\u001b[0m \u001b[38;5;28mprint\u001b[39m(np\u001b[38;5;241m.\u001b[39mones((\u001b[38;5;241m2\u001b[39m, \u001b[38;5;241m3\u001b[39m))\u001b[38;5;241m.\u001b[39mT)\n\u001b[0;32m     23\u001b[0m \u001b[38;5;66;03m# To sum a given row or column\u001b[39;00m\n\u001b[1;32m---> 24\u001b[0m \u001b[38;5;28mprint\u001b[39m(\u001b[43mnp\u001b[49m\u001b[38;5;241;43m.\u001b[39;49m\u001b[43mones\u001b[49m\u001b[43m(\u001b[49m\u001b[43m(\u001b[49m\u001b[38;5;241;43m2\u001b[39;49m\u001b[43m,\u001b[49m\u001b[38;5;241;43m3\u001b[39;49m\u001b[43m)\u001b[49m\u001b[43m)\u001b[49m\u001b[38;5;241;43m.\u001b[39;49m\u001b[43msum\u001b[49m\u001b[43m(\u001b[49m\u001b[43maxis\u001b[49m\u001b[38;5;241;43m=\u001b[39;49m\u001b[38;5;241;43m0\u001b[39;49m\u001b[43m,\u001b[49m\u001b[43m \u001b[49m\u001b[43mrow\u001b[49m\u001b[38;5;241;43m=\u001b[39;49m\u001b[38;5;241;43m1\u001b[39;49m\u001b[43m)\u001b[49m)\n",
      "\u001b[1;31mTypeError\u001b[0m: _sum() got an unexpected keyword argument 'row'"
     ]
    }
   ],
   "source": [
    "import numpy as np\n",
    "\n",
    "print(\"----------------------\")\n",
    "# two dimensional array\n",
    "display(np.array([range(0,10,2)]))\n",
    "# one dimensional array\n",
    "display(np.array([item for item in range(0,10,2)]))\n",
    "\n",
    "# matrix creation\n",
    "# 5x1 zeros matrix\n",
    "print(np.zeros(5))\n",
    "# 5x4 zeros matrix\n",
    "print(np.zeros((5, 4)))\n",
    "# 2x3x2 ones tensor\n",
    "print(np.ones((2, 3, 2)))\n",
    "\n",
    "# prints the size of each dimension \n",
    "print(np.ones((3, 4, 5)).shape)\n",
    "\n",
    "# To transpose a matrix\n",
    "print(np.ones((2, 3)).T)\n",
    "\n",
    "# To sum a given row or column\n",
    "print(np.ones((2,3)).sum(axis=0))"
   ]
  },
  {
   "cell_type": "markdown",
   "metadata": {},
   "source": [
    "in numpy all the operation are elements wise, instead of matrix wise (like matlab), to do a matrix multiplication use @"
   ]
  }
 ],
 "metadata": {
  "kernelspec": {
   "display_name": ".venv",
   "language": "python",
   "name": "python3"
  },
  "language_info": {
   "codemirror_mode": {
    "name": "ipython",
    "version": 3
   },
   "file_extension": ".py",
   "mimetype": "text/x-python",
   "name": "python",
   "nbconvert_exporter": "python",
   "pygments_lexer": "ipython3",
   "version": "3.12.0"
  }
 },
 "nbformat": 4,
 "nbformat_minor": 2
}
