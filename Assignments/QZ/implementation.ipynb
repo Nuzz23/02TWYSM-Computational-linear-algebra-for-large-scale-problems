{
 "cells": [
  {
   "cell_type": "markdown",
   "metadata": {},
   "source": [
    "# QZ Algorithm"
   ]
  },
  {
   "cell_type": "code",
   "execution_count": 2,
   "metadata": {},
   "outputs": [],
   "source": [
    "import numpy as np\n",
    "\n",
    "import scipy"
   ]
  },
  {
   "cell_type": "markdown",
   "metadata": {},
   "source": [
    "## Input"
   ]
  },
  {
   "cell_type": "code",
   "execution_count": null,
   "metadata": {},
   "outputs": [],
   "source": [
    "import scipy.linalg\n",
    "\n",
    "A = np.array([[0, -1], [-1, 0]])\n",
    "B = np.array([[0, 1], [1, 1]])\n",
    "D = np.zeros((2,2), dtype=np.complex64)\n",
    "# display(A, B)\n",
    "\n",
    "D[np.diag_indices(n=2)], W = scipy.linalg.eig(A, right=True)\n",
    "# display(V, D, W)\n",
    "display(W @ D @ scipy.linalg.inv(W))\n",
    "\n",
    "D[np.diag_indices(n=2)], W = scipy.linalg.eig(A, B, right=True)\n",
    "# display(V, D, W)\n",
    "display(B @ W @ D @ scipy.linalg.inv(W))\n",
    "\n",
    "# A = np.array([[3., 0., 0.], [0., 8., 0.], [0., 0., 7.]])"
   ]
  },
  {
   "cell_type": "code",
   "execution_count": 146,
   "metadata": {},
   "outputs": [],
   "source": [
    "def create_reflection_matrix(X:np.ndarray, col:int, row:int):\n",
    "    n = X.shape[0]\n",
    "    Q = np.eye(n,n)\n",
    "\n",
    "    b = X[row:, col].reshape((-1, 1))\n",
    "    e1 = np.zeros_like(b).reshape((-1, 1))\n",
    "    e1[0] = 1\n",
    "    v = b - scipy.linalg.norm(b, 2) * e1\n",
    "\n",
    "    # print(f\"v:{v}\\n\")\n",
    "    # print(f\"reflection:\\n{(v @ v.T)/(scipy.linalg.norm(v, 2)**2)}\\n\")\n",
    "    # display(scipy.linalg.norm(v, 2)**2)\n",
    "\n",
    "    # if scipy.linalg.norm(v,2) > 1e-5:\n",
    "    Q[row:, row:] -= 2*(v @ v.T)/(scipy.linalg.norm(v, 2)**2)\n",
    "\n",
    "    return Q\n"
   ]
  },
  {
   "cell_type": "code",
   "execution_count": null,
   "metadata": {},
   "outputs": [],
   "source": [
    "A = np.array([\n",
    "    [ 50, -60,  50, -27,   6],\n",
    "    [-60,  27,  27, -28,   5],\n",
    "    [ 50,  27, -28, -17,   5],\n",
    "    [-27, -28, -17,  27,   5],\n",
    "    [ 6,    5,   5,   5,  16]\n",
    "])\n",
    "\n",
    "B = np.array([\n",
    "    [16, 5, 5, 5, 6], \n",
    "    [5, 16, 5, 5, 1], \n",
    "    [5, 5, 16, 5, 2], \n",
    "    [5, 5, 5, 16, 3], \n",
    "    [6, 1, 2, 3, 16], \n",
    "])\n",
    "\n",
    "n = 5\n",
    "A = A[:n, :n]\n",
    "B = B[:n, :n]\n",
    "# display(A) \n",
    "# display(B) \n",
    "display(scipy.linalg.det(A))\n",
    "display(scipy.linalg.det(B))\n",
    "\n",
    "n = A.shape[0]\n",
    "\n",
    "display(B)\n",
    "for k in range(n-1):\n",
    "    Q = create_reflection_matrix(B, k, k)\n",
    "\n",
    "    # print(f\"Q:{Q}\\n\")\n",
    "    B = Q @ B\n",
    "    A = Q @ A\n",
    "\n",
    "\n",
    "    # B[np.abs(B) < 1e-4] = 0\n",
    "    # print(f\"B:\\n{B}\\n\")\n",
    "\n",
    "# print(f\"B:\\n{B}\\n\")\n",
    "# print(f\"A:\\n{A}\\n\")\n",
    "\n",
    "for k in range(n-2):\n",
    "    for l in range(n-1, k+1, -1):\n",
    "        Q = create_reflection_matrix(A, k, l)\n",
    "\n",
    "        # display(Q)\n",
    "        A = Q @ A\n",
    "        B = Q @ B\n",
    "\n",
    "        A_copy = A.copy()\n",
    "        B_copy = B.copy()\n",
    "        A_copy[np.abs(A) < 1e-4] = 0\n",
    "        B_copy[np.abs(B) < 1e-4] = 0\n",
    "        \n",
    "        print(f\"A:\\n{A_copy}\\n\")    \n",
    "        print(f\"B:\\n{B_copy}\\n\")\n",
    "        \n",
    "        Z = create_reflection_matrix(B, l, l)\n",
    "\n",
    "        B = B @ Z\n",
    "        A = A @ Z\n",
    "\n",
    "        A_copy = A.copy()\n",
    "        B_copy = B.copy()\n",
    "        A_copy[np.abs(A) < 1e-4] = 0\n",
    "        B_copy[np.abs(B) < 1e-4] = 0\n",
    "        \n",
    "        print(f\"A:\\n{A_copy}\\n\")    \n",
    "        print(f\"B:\\n{B_copy}\\n\")\n",
    "        \n",
    "    # display(f\"l:{l} k:{k}\")\n",
    "\n",
    "A[np.abs(A) < 1e-4] = 0\n",
    "B[np.abs(B) < 1e-4] = 0\n",
    "    \n",
    "print(\"B:\\n\")\n",
    "display(B)\n",
    "print(\"A:\\n\")\n",
    "display(A)\n"
   ]
  }
 ],
 "metadata": {
  "kernelspec": {
   "display_name": "Python 3",
   "language": "python",
   "name": "python3"
  },
  "language_info": {
   "codemirror_mode": {
    "name": "ipython",
    "version": 3
   },
   "file_extension": ".py",
   "mimetype": "text/x-python",
   "name": "python",
   "nbconvert_exporter": "python",
   "pygments_lexer": "ipython3",
   "version": "3.11.9"
  }
 },
 "nbformat": 4,
 "nbformat_minor": 2
}
